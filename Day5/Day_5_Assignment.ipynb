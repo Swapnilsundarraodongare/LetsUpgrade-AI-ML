{
 "cells": [
  {
   "cell_type": "markdown",
   "metadata": {},
   "source": [
    "# Question 1 :\n",
    "___Write a Python program to find the first 20 non-even prime natural numbers___"
   ]
  },
  {
   "cell_type": "code",
   "execution_count": 2,
   "metadata": {},
   "outputs": [
    {
     "name": "stdout",
     "output_type": "stream",
     "text": [
      "First 20 non even prime number are 3 5 7 11 13 17 19 23 29 31 37 41 43 47 53 59 61 67 71 73 "
     ]
    }
   ],
   "source": [
    "i=0\n",
    "cnt=0;\n",
    "print(\"First 20 non even prime number are\",end=\" \")\n",
    "while cnt!=20:\n",
    "    if i>=2:\n",
    "        if (i%2)!=0:\n",
    "            # print(\"even no\",i)\n",
    "            temp=i-1;\n",
    "            while (temp>1):\n",
    "                if i%temp==0:\n",
    "                    break;\n",
    "                temp=temp-1\n",
    "            if temp==1:\n",
    "                print(i,end=\" \")\n",
    "                cnt=cnt+1\n",
    "    i=i+1;\n",
    "    "
   ]
  },
  {
   "cell_type": "markdown",
   "metadata": {},
   "source": [
    "# Question 2 :\n",
    "__Write a Python program to implement 15 functions of string.__\n"
   ]
  },
  {
   "cell_type": "code",
   "execution_count": 5,
   "metadata": {},
   "outputs": [
    {
     "name": "stdout",
     "output_type": "stream",
     "text": [
      "Thank you letsupgrade\n",
      "String:  *******Lets Start*******\n",
      "Substring 'swapnil': 0\n",
      "Substring 'abc': -1\n",
      "True\n",
      "isalpha use  True\n",
      "True\n",
      "False\n",
      "True\n",
      "True\n",
      "['Milk', 'Chicken', 'Bread']\n",
      "Dongare Dongare\n",
      "The count is: 2\n",
      "False\n",
      "True\n"
     ]
    }
   ],
   "source": [
    "# 1) the capitalize() method converts first character of a string to uppercase letter and lowercases all other characters, if any.\n",
    "\n",
    "u=\"thank you letsupgrade\"\n",
    "x=u.capitalize()\n",
    "print(x)\n",
    "\n",
    "# 2)The center() method returns a string which is padded with the specified character.\n",
    "\n",
    "string = \"Lets Start\"\n",
    "\n",
    "new_string = string.center(24, '*')\n",
    "\n",
    "print(\"String: \", new_string)\n",
    "\n",
    "# 3) The find() method returns the index of first occurrence of the substring (if found). If not found, it returns -1.\n",
    "\n",
    "quote = 'swapnil 123, swapnil 123'\n",
    "\n",
    "# 4) first occurance of 'nishad'(case sensitive)\n",
    "result = quote.find('swapnil')\n",
    "print(\"Substring 'swapnil':\", result)\n",
    "\n",
    "# 5) find returns -1 if substring not found\n",
    "result = quote.find('abc')\n",
    "print(\"Substring 'abc':\", result)\n",
    "\n",
    "# 6) The isalnum() method returns True if all characters in the string are alphanumeric (either alphabets or numbers). If not, it returns False.\n",
    "\n",
    "name = \"Swapnil3456Dongare\"\n",
    "print(name.isalnum())\n",
    "\n",
    "# 7) The isalpha() method returns True if all characters in the string are alphabets. If not, it returns False.\n",
    "\n",
    "name = \"Swapnil\"\n",
    "print(\"isalpha use \",name.isalpha())\n",
    "\n",
    "# 8) The isdecimal() method returns True if all characters in a string are decimal characters. If not, it returns False.\n",
    "\n",
    "s = \"28212\"\n",
    "print(s.isdecimal())\n",
    "\n",
    "# 9) contains alphabets\n",
    "s = \"32ladk3\"\n",
    "print(s.isdecimal())\n",
    "\n",
    "# 10) The isdigit() method returns True if all characters in a string are digits. If not, it returns False.\n",
    "\n",
    "s = \"28212\"\n",
    "print(s.isdigit())\n",
    "\n",
    "# 11) The string isupper() method returns whether or not all characters in a string are uppercased or not.\n",
    "\n",
    "string = \"THIS IS GOOD!\"\n",
    "print(string.isupper());\n",
    "\n",
    "# 12) The split() method breaks up a string at the specified separator and returns a list of strings.\n",
    "\n",
    "gro =\"Milk, Chicken, Bread\"\n",
    "print(gro.split(', '))\n",
    "\n",
    "# 13) The replace() method returns a copy of the string where all occurrences of a substring is replaced with another substring.\n",
    "\n",
    "name = 'Swapnil Dongare'\n",
    "print(name.replace('Swapnil', 'Dongare'))\n",
    "\n",
    "# 14) The string count() method returns the number of occurrences of a substring in the given string.\n",
    "\n",
    "string = \"Python is awesome, isn't it?\"\n",
    "substring = \"is\"\n",
    "count = string.count(substring)\n",
    "print(\"The count is:\", count)\n",
    "\n",
    "# 15) The endswith() method returns True if a string ends with the specified suffix. If not, it returns False.\n",
    "\n",
    "text = \"Python is easy to learn.\"\n",
    "\n",
    "result = text.endswith('to learn')\n",
    "print(result)\n",
    "\n",
    "result = text.endswith('to learn.')\n",
    "print(result)\n"
   ]
  },
  {
   "cell_type": "markdown",
   "metadata": {},
   "source": [
    "# Question 3:\n",
    "__Write a Python program to check if the given string is a Palindrome or Anagram or None of them.\n",
    "Display the message accordingly to the user.__\n"
   ]
  },
  {
   "cell_type": "code",
   "execution_count": 7,
   "metadata": {},
   "outputs": [
    {
     "name": "stdout",
     "output_type": "stream",
     "text": [
      "Enter your stringmalayalam\n",
      "Enter anagram stringmalayalam\n",
      "Input string is Palindrome\n"
     ]
    }
   ],
   "source": [
    "def check_palindrome(input_str):\n",
    "    if input_str==input_str[::-1]:\n",
    "        return 1\n",
    "    else:\n",
    "        return 0\n",
    "\n",
    "def check_Anagram(input_str,Ana_string):\n",
    "    for itr in range(len(input_str)):\n",
    "        if (input_str.find(Ana_string[itr]))==-1:\n",
    "            return 0\n",
    "        else:\n",
    "            continue;\n",
    "    return 1\n",
    "\n",
    "string=input(\"Enter your string\")\n",
    "Ana_string=input(\"Enter anagram string\")\n",
    "if check_palindrome(string):\n",
    "    print(\"Input string is Palindrome\");\n",
    "elif check_Anagram(string,Ana_string):\n",
    "    print(\"Input string is Anagram\")\n",
    "else:\n",
    "    printf(\"None\")\n",
    "\n"
   ]
  },
  {
   "cell_type": "markdown",
   "metadata": {},
   "source": [
    "# Question 4:\n",
    "__Write a Python's user defined function that removes all the additional characters from the string\n",
    "and converts it finally to lower case using built-in lower(). eg: If the string is \"Dr. Darshan Ingle\n",
    "@AI-ML Trainer\", then the output be \"drdarshaningleaimltrainer\".__"
   ]
  },
  {
   "cell_type": "code",
   "execution_count": 15,
   "metadata": {},
   "outputs": [
    {
     "name": "stdout",
     "output_type": "stream",
     "text": [
      "Enter your string\"Dr. Darshan Ingle @AI-ML Trainer\"\n",
      "\"drdarshaningleaimltrainer\"\n"
     ]
    }
   ],
   "source": [
    "def rem_char(input_str):\n",
    "    unwanted = \"~!@#$%^&*()_+-=[]\\{}|;' ,./<> \"\n",
    "    for char in unwanted:\n",
    "         input_str = input_str.replace(char,\"\")\n",
    "    input_str=input_str.lower()\n",
    "    return input_str\n",
    "        \n",
    "            \n",
    "    \n",
    "string=input(\"Enter your string\")\n",
    "print(rem_char(string))"
   ]
  },
  {
   "cell_type": "code",
   "execution_count": 16,
   "metadata": {},
   "outputs": [
    {
     "data": {
      "text/plain": [
       "'C:\\\\Users\\\\Swapnil Dongare'"
      ]
     },
     "execution_count": 16,
     "metadata": {},
     "output_type": "execute_result"
    }
   ],
   "source": [
    "import os\n",
    "os.getcwd()"
   ]
  },
  {
   "cell_type": "code",
   "execution_count": null,
   "metadata": {},
   "outputs": [],
   "source": []
  }
 ],
 "metadata": {
  "kernelspec": {
   "display_name": "Python 3",
   "language": "python",
   "name": "python3"
  },
  "language_info": {
   "codemirror_mode": {
    "name": "ipython",
    "version": 3
   },
   "file_extension": ".py",
   "mimetype": "text/x-python",
   "name": "python",
   "nbconvert_exporter": "python",
   "pygments_lexer": "ipython3",
   "version": "3.7.6"
  }
 },
 "nbformat": 4,
 "nbformat_minor": 4
}
