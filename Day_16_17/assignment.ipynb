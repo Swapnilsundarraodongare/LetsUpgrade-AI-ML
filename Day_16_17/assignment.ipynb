{
 "cells": [
  {
   "cell_type": "code",
   "execution_count": 2,
   "metadata": {},
   "outputs": [],
   "source": [
    "import pandas as pd"
   ]
  },
  {
   "cell_type": "code",
   "execution_count": 3,
   "metadata": {},
   "outputs": [
    {
     "data": {
      "text/html": [
       "<div>\n",
       "<style scoped>\n",
       "    .dataframe tbody tr th:only-of-type {\n",
       "        vertical-align: middle;\n",
       "    }\n",
       "\n",
       "    .dataframe tbody tr th {\n",
       "        vertical-align: top;\n",
       "    }\n",
       "\n",
       "    .dataframe thead th {\n",
       "        text-align: right;\n",
       "    }\n",
       "</style>\n",
       "<table border=\"1\" class=\"dataframe\">\n",
       "  <thead>\n",
       "    <tr style=\"text-align: right;\">\n",
       "      <th></th>\n",
       "      <th>title</th>\n",
       "      <th>year</th>\n",
       "    </tr>\n",
       "  </thead>\n",
       "  <tbody>\n",
       "    <tr>\n",
       "      <th>0</th>\n",
       "      <td>Tasveer Mere Sanam</td>\n",
       "      <td>1996</td>\n",
       "    </tr>\n",
       "    <tr>\n",
       "      <th>1</th>\n",
       "      <td>Only You</td>\n",
       "      <td>1994</td>\n",
       "    </tr>\n",
       "    <tr>\n",
       "      <th>2</th>\n",
       "      <td>El pueblo del terror</td>\n",
       "      <td>1970</td>\n",
       "    </tr>\n",
       "    <tr>\n",
       "      <th>3</th>\n",
       "      <td>Machine</td>\n",
       "      <td>2007</td>\n",
       "    </tr>\n",
       "    <tr>\n",
       "      <th>4</th>\n",
       "      <td>MARy</td>\n",
       "      <td>2008</td>\n",
       "    </tr>\n",
       "  </tbody>\n",
       "</table>\n",
       "</div>"
      ],
      "text/plain": [
       "                  title  year\n",
       "0    Tasveer Mere Sanam  1996\n",
       "1              Only You  1994\n",
       "2  El pueblo del terror  1970\n",
       "3               Machine  2007\n",
       "4                  MARy  2008"
      ]
     },
     "execution_count": 3,
     "metadata": {},
     "output_type": "execute_result"
    }
   ],
   "source": [
    "data = pd.read_csv('C:/Users/91997/Downloads/titles.csv')\n",
    "data.head()"
   ]
  },
  {
   "cell_type": "markdown",
   "metadata": {},
   "source": [
    "### How many movies are listed in the titles dataframe?"
   ]
  },
  {
   "cell_type": "code",
   "execution_count": 4,
   "metadata": {},
   "outputs": [
    {
     "data": {
      "text/plain": [
       "244914"
      ]
     },
     "execution_count": 4,
     "metadata": {},
     "output_type": "execute_result"
    }
   ],
   "source": [
    "data.title.count()"
   ]
  },
  {
   "cell_type": "markdown",
   "metadata": {},
   "source": [
    "### What are the earliest two films listed in the titles dataframe?"
   ]
  },
  {
   "cell_type": "code",
   "execution_count": 5,
   "metadata": {},
   "outputs": [
    {
     "data": {
      "text/html": [
       "<div>\n",
       "<style scoped>\n",
       "    .dataframe tbody tr th:only-of-type {\n",
       "        vertical-align: middle;\n",
       "    }\n",
       "\n",
       "    .dataframe tbody tr th {\n",
       "        vertical-align: top;\n",
       "    }\n",
       "\n",
       "    .dataframe thead th {\n",
       "        text-align: right;\n",
       "    }\n",
       "</style>\n",
       "<table border=\"1\" class=\"dataframe\">\n",
       "  <thead>\n",
       "    <tr style=\"text-align: right;\">\n",
       "      <th></th>\n",
       "      <th>title</th>\n",
       "      <th>year</th>\n",
       "    </tr>\n",
       "  </thead>\n",
       "  <tbody>\n",
       "    <tr>\n",
       "      <th>242196</th>\n",
       "      <td>100 Years</td>\n",
       "      <td>2115</td>\n",
       "    </tr>\n",
       "    <tr>\n",
       "      <th>183018</th>\n",
       "      <td>The Zero Century: Maetel</td>\n",
       "      <td>2026</td>\n",
       "    </tr>\n",
       "  </tbody>\n",
       "</table>\n",
       "</div>"
      ],
      "text/plain": [
       "                           title  year\n",
       "242196                 100 Years  2115\n",
       "183018  The Zero Century: Maetel  2026"
      ]
     },
     "execution_count": 5,
     "metadata": {},
     "output_type": "execute_result"
    }
   ],
   "source": [
    "data.sort_values(by='year', ascending=False).head(2)\n"
   ]
  },
  {
   "cell_type": "markdown",
   "metadata": {},
   "source": [
    "### How many movies have the title \"Hamlet\"?"
   ]
  },
  {
   "cell_type": "code",
   "execution_count": 6,
   "metadata": {},
   "outputs": [
    {
     "name": "stdout",
     "output_type": "stream",
     "text": [
      "57\n"
     ]
    }
   ],
   "source": [
    "value=data[data['title'].str.contains(\"Hamlet\")]\n",
    "print(value.title.count())"
   ]
  },
  {
   "cell_type": "markdown",
   "metadata": {},
   "source": [
    "### How many movies are titled \"North by Northwest\"?"
   ]
  },
  {
   "cell_type": "code",
   "execution_count": 7,
   "metadata": {},
   "outputs": [
    {
     "name": "stdout",
     "output_type": "stream",
     "text": [
      "1\n"
     ]
    }
   ],
   "source": [
    "value2=data[data['title'].str.contains(\"North by Northwest\")]\n",
    "\n",
    "print(value2.title.count())"
   ]
  },
  {
   "cell_type": "markdown",
   "metadata": {},
   "source": [
    "### When was the first movie titled \"Hamlet\" made?"
   ]
  },
  {
   "cell_type": "code",
   "execution_count": 12,
   "metadata": {},
   "outputs": [
    {
     "name": "stdout",
     "output_type": "stream",
     "text": [
      "1910\n"
     ]
    }
   ],
   "source": [
    "first_case=value.sort_values(by='year', ascending=True).head(1) \n",
    "l=first_case.values.tolist()    #converting dataframe into list to access single value\n",
    "\n",
    "print(l[0][1])\n"
   ]
  },
  {
   "cell_type": "markdown",
   "metadata": {},
   "source": [
    "### List all of the \"Treasure Island\" movies from earliest to most recent."
   ]
  },
  {
   "cell_type": "code",
   "execution_count": 44,
   "metadata": {},
   "outputs": [
    {
     "name": "stdout",
     "output_type": "stream",
     "text": [
      "Treasure Island\n",
      "Treasure Island\n",
      "Treasure Island\n",
      "The Secret of Treasure Island\n",
      "Charlie Chan at Treasure Island\n",
      "Treasure Island\n",
      "Return to Treasure Island\n",
      "Five on a Treasure Island\n",
      "Treasure Island\n",
      "Treasure Island\n",
      "Treasure Island\n",
      "Muppet Treasure Island\n",
      "Treasure Island\n",
      "Treasure Island (II)\n",
      "Treasure Island Kids: The Battle of Treasure Island\n",
      "Pirates of Treasure Island\n",
      "Treasure Island Kids: The Mystery of Treasure Island\n",
      "Treasure Island Kids: The Monster of Treasure Island\n",
      "National Theatre Live: Treasure Island\n"
     ]
    }
   ],
   "source": [
    "value3=data[data['title'].str.contains(\"Treasure Island\")]\n",
    "second_case=value3.sort_values(by='year', ascending=True) \n",
    "\n",
    "l2=second_case.values.tolist() #converting into list to access single value\n",
    "#print(l2)\n",
    "import numpy as np\n",
    "\n",
    "a=np.array(l2)\n",
    "#print(a[0][0])\n",
    "length=len(a)\n",
    "j=0\n",
    "#print(\"length of an array \", length)\n",
    "while (j<=(length-1)):\n",
    "        n=a[j][0]\n",
    "        print(n)\n",
    "        j=j+1\n",
    "\n",
    "#here multiple entries are present with different year  but titles are same. list is in assecending order usig  year column. "
   ]
  },
  {
   "cell_type": "markdown",
   "metadata": {},
   "source": [
    "### How many movies were made in the year 1950?"
   ]
  },
  {
   "cell_type": "code",
   "execution_count": 58,
   "metadata": {},
   "outputs": [
    {
     "name": "stdout",
     "output_type": "stream",
     "text": [
      "1113\n"
     ]
    }
   ],
   "source": [
    "value4=data[data.year==1950].count()\n",
    "l5=value4.values.tolist() #converting into list to access single value\n",
    "\n",
    "print(l5[0])\n"
   ]
  },
  {
   "cell_type": "markdown",
   "metadata": {},
   "source": [
    "### How many movies were made in the year 1960?"
   ]
  },
  {
   "cell_type": "code",
   "execution_count": 60,
   "metadata": {},
   "outputs": [
    {
     "name": "stdout",
     "output_type": "stream",
     "text": [
      "1549\n"
     ]
    }
   ],
   "source": [
    "value5=data[data.year==1960].count()\n",
    "l6=value5.values.tolist() #converting into list to access single value\n",
    "\n",
    "print(l6[0])\n"
   ]
  },
  {
   "cell_type": "markdown",
   "metadata": {},
   "source": [
    "### How many movies were made from 1950 through 1959?"
   ]
  },
  {
   "cell_type": "code",
   "execution_count": 72,
   "metadata": {},
   "outputs": [
    {
     "name": "stdout",
     "output_type": "stream",
     "text": [
      "12934\n"
     ]
    }
   ],
   "source": [
    "value6=data[(data.year>=1950 )& (data.year<=1959)].count()\n",
    "l7=value6.values.tolist() #converting into list to access single value\n",
    "\n",
    "print(l7[0])"
   ]
  },
  {
   "cell_type": "markdown",
   "metadata": {},
   "source": [
    "### In what years has a movie titled \"Batman\" been released?"
   ]
  },
  {
   "cell_type": "code",
   "execution_count": 77,
   "metadata": {},
   "outputs": [
    {
     "name": "stdout",
     "output_type": "stream",
     "text": [
      "Batman released in year ->  1943\n"
     ]
    }
   ],
   "source": [
    "data2 = pd.read_csv('C:/Users/91997/Downloads/release_dates.csv')\n",
    "\n",
    "batman_year=data2[data2.title==\"Batman\"].year\n",
    "\n",
    "l8=batman_year.values.tolist() #converting into list to access single value\n",
    "print(\"Batman released in year -> \",l8[0])\n"
   ]
  },
  {
   "cell_type": "markdown",
   "metadata": {},
   "source": [
    "### How many roles were there in the movie \"Inception\"?"
   ]
  },
  {
   "cell_type": "code",
   "execution_count": 162,
   "metadata": {},
   "outputs": [],
   "source": [
    "data3 = pd.read_csv('C:/Users/91997/Downloads/cast.csv')\n",
    "#print(data3.info())\n",
    "\n",
    "\n",
    "roles=data3[data3.title==\"Inception\"]\n",
    "\n"
   ]
  },
  {
   "cell_type": "code",
   "execution_count": 163,
   "metadata": {},
   "outputs": [
    {
     "name": "stdout",
     "output_type": "stream",
     "text": [
      "roles in the movie Inception are -> 78\n"
     ]
    }
   ],
   "source": [
    "count_roles=roles.name\n",
    "print(\"roles in the movie Inception are ->\",count_roles.count())\n"
   ]
  },
  {
   "cell_type": "markdown",
   "metadata": {},
   "source": [
    "### How many roles in the movie \"Inception\" are NOT ranked by an \"n\" value?"
   ]
  },
  {
   "cell_type": "code",
   "execution_count": 164,
   "metadata": {},
   "outputs": [
    {
     "name": "stdout",
     "output_type": "stream",
     "text": [
      "27\n"
     ]
    }
   ],
   "source": [
    "data_new=roles.isna()\n",
    "Not_ranked=data_new[data_new.n==True]\n",
    "value_not_ranked=Not_ranked.n.count()\n",
    "\n",
    "print(value_not_ranked)"
   ]
  },
  {
   "cell_type": "markdown",
   "metadata": {},
   "source": [
    "### But how many roles in the movie \"Inception\" did receive an \"n\" value?"
   ]
  },
  {
   "cell_type": "code",
   "execution_count": 165,
   "metadata": {},
   "outputs": [
    {
     "name": "stdout",
     "output_type": "stream",
     "text": [
      "51\n"
     ]
    }
   ],
   "source": [
    "\n",
    "ranked=data_new[data_new.n==False]\n",
    "value_ranked=ranked.n.count()\n",
    "\n",
    "print(value_ranked)"
   ]
  },
  {
   "cell_type": "markdown",
   "metadata": {},
   "source": [
    "### Display the cast of \"North by Northwest\" in their correct \"n\"-value order, ignoring roles that did not earn a numeric \"n\" value."
   ]
  },
  {
   "cell_type": "code",
   "execution_count": 178,
   "metadata": {},
   "outputs": [
    {
     "name": "stdout",
     "output_type": "stream",
     "text": [
      "                      title  year                  name     type  \\\n",
      "871426   North by Northwest  1959            Cary Grant    actor   \n",
      "3518333  North by Northwest  1959       Eva Marie Saint  actress   \n",
      "1457165  North by Northwest  1959           James Mason    actor   \n",
      "3157232  North by Northwest  1959   Jessie Royce Landis  actress   \n",
      "356707   North by Northwest  1959        Leo G. Carroll    actor   \n",
      "3048272  North by Northwest  1959  Josephine Hutchinson  actress   \n",
      "1695173  North by Northwest  1959           Philip Ober    actor   \n",
      "1275337  North by Northwest  1959         Martin Landau    actor   \n",
      "2447081  North by Northwest  1959         Adam Williams    actor   \n",
      "1811387  North by Northwest  1959          Edward Platt    actor   \n",
      "665768   North by Northwest  1959     Robert Ellenstein    actor   \n",
      "2295714  North by Northwest  1959          Les Tremayne    actor   \n",
      "464736   North by Northwest  1959       Philip Coolidge    actor   \n",
      "1508344  North by Northwest  1959         Patrick McVey    actor   \n",
      "206471   North by Northwest  1959          Edward Binns    actor   \n",
      "1384780  North by Northwest  1959             Ken Lynch    actor   \n",
      "\n",
      "                           character     n  \n",
      "871426            Roger O. Thornhill   1.0  \n",
      "3518333                  Eve Kendall   2.0  \n",
      "1457165              Phillip Vandamm   3.0  \n",
      "3157232              Clara Thornhill   4.0  \n",
      "356707                 The Professor   5.0  \n",
      "3048272                Mrs. Townsend   6.0  \n",
      "1695173              Lester Townsend   7.0  \n",
      "1275337                      Leonard   8.0  \n",
      "2447081                     Valerian   9.0  \n",
      "1811387              Victor Larrabee  10.0  \n",
      "665768                         Licht  11.0  \n",
      "2295714                   Auctioneer  12.0  \n",
      "464736                     Dr. Cross  13.0  \n",
      "1508344               Sergeant Flamm  14.0  \n",
      "206471                Captain Junket  15.0  \n",
      "1384780  Charley - Chicago Policeman  16.0  \n"
     ]
    }
   ],
   "source": [
    "data4 = pd.read_csv('C:/Users/91997/Downloads/cast.csv')\n",
    "\n",
    "#max=data4.n.max()\n",
    "data4[\"n\"].fillna(11111111,inplace=True)\n",
    "roles2=data4[data4.title==\"North by Northwest\"]\n",
    "\n",
    "data_new1=roles2[roles2.n!=11111111]\n",
    "data_new1=data_new1.sort_values(by='n', ascending=True) \n",
    "\n",
    "print(data_new1)"
   ]
  },
  {
   "cell_type": "markdown",
   "metadata": {},
   "source": [
    "### Display the entire cast, in \"n\"-order, of the 1972 film \"Sleuth\"."
   ]
  },
  {
   "cell_type": "code",
   "execution_count": 179,
   "metadata": {},
   "outputs": [
    {
     "name": "stdout",
     "output_type": "stream",
     "text": [
      "          title  year                name     type  \\\n",
      "1705394  Sleuth  1972    Laurence Olivier    actor   \n",
      "326773   Sleuth  1972       Michael Caine    actor   \n",
      "373876   Sleuth  1972      Alec Cawthorne    actor   \n",
      "1465483  Sleuth  1972  John (II) Matthews    actor   \n",
      "2724553  Sleuth  1972  Eve (III) Channing  actress   \n",
      "1448690  Sleuth  1972        Teddy Martin    actor   \n",
      "\n",
      "                          character    n  \n",
      "1705394                 Andrew Wyke  1.0  \n",
      "326773                  Milo Tindle  2.0  \n",
      "373876            Inspector Doppler  3.0  \n",
      "1465483  Detective Sergeant Tarrant  4.0  \n",
      "2724553             Marguerite Wyke  5.0  \n",
      "1448690      Police Constable Higgs  6.0  \n"
     ]
    }
   ],
   "source": [
    "cast=data4[(data4.title==\"Sleuth\")&(data4.year==1972)]\n",
    "\n",
    "#cast[\"n\"].fillna(\"111111\",inplace=True)\n",
    "\n",
    "data_new2=cast.sort_values(by='n', ascending=True) \n",
    "\n",
    "print(data_new2)"
   ]
  },
  {
   "cell_type": "markdown",
   "metadata": {},
   "source": [
    "### Now display the entire cast, in \"n\"-order, of the 2007 version of \"Sleuth\"."
   ]
  },
  {
   "cell_type": "code",
   "execution_count": 180,
   "metadata": {},
   "outputs": [
    {
     "name": "stdout",
     "output_type": "stream",
     "text": [
      "          title  year                 name     type          character       n\n",
      "326774   Sleuth  2007        Michael Caine    actor             Andrew     1.0\n",
      "1293634  Sleuth  2007             Jude Law    actor               Milo     2.0\n",
      "1805907  Sleuth  2007        Harold Pinter    actor        Man on T.V.     3.0\n",
      "260242   Sleuth  2007      Kenneth Branagh    actor  Other Man on T.V.  1111.0\n",
      "373877   Sleuth  2007  Alec (II) Cawthorne    actor  Inspector Doppler  1111.0\n",
      "2724552  Sleuth  2007    Eve (II) Channing  actress    Marguerite Wyke  1111.0\n",
      "3370424  Sleuth  2007    Carmel O'Sullivan  actress             Maggie  1111.0\n"
     ]
    }
   ],
   "source": [
    "cast2=data4[(data4.title==\"Sleuth\")&(data4.year==2007)]\n",
    "\n",
    "#cast2[\"n\"].fillna(\"111111\",inplace=True)\n",
    "\n",
    "data_new6=cast2.sort_values(by='n', ascending=True) \n",
    "print(data_new6)"
   ]
  },
  {
   "cell_type": "markdown",
   "metadata": {},
   "source": [
    "### How many roles were credited in the silent 1921 version of Hamlet?"
   ]
  },
  {
   "cell_type": "code",
   "execution_count": 189,
   "metadata": {},
   "outputs": [
    {
     "name": "stdout",
     "output_type": "stream",
     "text": [
      "roles were credited  9\n"
     ]
    }
   ],
   "source": [
    "cast3=data4[(data4.title==\"Hamlet\")&(data4.year==1921)]\n",
    "roles_cast=cast3.name\n",
    "roles_credited=roles_cast.count()\n",
    "print(\"roles were credited \",roles_credited)"
   ]
  },
  {
   "cell_type": "markdown",
   "metadata": {},
   "source": [
    "### How many roles were credited in Branagh’s 1996 Hamlet?"
   ]
  },
  {
   "cell_type": "code",
   "execution_count": 194,
   "metadata": {},
   "outputs": [
    {
     "name": "stdout",
     "output_type": "stream",
     "text": [
      "roles were credited  54\n"
     ]
    }
   ],
   "source": [
    "cast4=data4[(data4.title==\"Hamlet\")&(data4.year==1996)]\n",
    "roles_cast2=cast4.name\n",
    "roles_credited2=roles_cast2.count()\n",
    "print(\"roles were credited \",roles_credited2)\n"
   ]
  },
  {
   "cell_type": "markdown",
   "metadata": {},
   "source": [
    "### How many \"Hamlet\" roles have been listed in all film credits through history?"
   ]
  },
  {
   "cell_type": "code",
   "execution_count": 197,
   "metadata": {},
   "outputs": [
    {
     "name": "stdout",
     "output_type": "stream",
     "text": [
      "342\n"
     ]
    }
   ],
   "source": [
    "cast5=data4[data4.title==\"Hamlet\"]\n",
    "cast5_count=cast5.character.count()\n",
    "print(cast5_count)"
   ]
  },
  {
   "cell_type": "markdown",
   "metadata": {},
   "source": [
    "### How many people have played an \"Ophelia\"?"
   ]
  },
  {
   "cell_type": "code",
   "execution_count": 200,
   "metadata": {},
   "outputs": [
    {
     "name": "stdout",
     "output_type": "stream",
     "text": [
      "117\n"
     ]
    }
   ],
   "source": [
    "cast6=data4[data4.character==\"Ophelia\"]\n",
    "cast6_count=cast6.count()\n",
    "count_of=cast6_count.tolist()\n",
    "print(count_of[2])\n"
   ]
  },
  {
   "cell_type": "markdown",
   "metadata": {},
   "source": [
    "### How many people have played a role called \"The Dude\"?"
   ]
  },
  {
   "cell_type": "code",
   "execution_count": 203,
   "metadata": {},
   "outputs": [
    {
     "name": "stdout",
     "output_type": "stream",
     "text": [
      "19\n"
     ]
    }
   ],
   "source": [
    "cast7=data4[data4.character==\"The Dude\"]\n",
    "cast7_count=cast7.count()\n",
    "count_of2=cast7_count.tolist()\n",
    "print(count_of2[2])\n"
   ]
  },
  {
   "cell_type": "markdown",
   "metadata": {},
   "source": [
    "### How many people have played a role called \"The Stranger\"?"
   ]
  },
  {
   "cell_type": "code",
   "execution_count": 204,
   "metadata": {},
   "outputs": [
    {
     "name": "stdout",
     "output_type": "stream",
     "text": [
      "212\n"
     ]
    }
   ],
   "source": [
    "cast8=data4[data4.character==\"The Stranger\"]\n",
    "cast8_count=cast8.count()\n",
    "count_of3=cast8_count.tolist()\n",
    "print(count_of3[2])\n"
   ]
  },
  {
   "cell_type": "markdown",
   "metadata": {},
   "source": [
    "### How many roles has Sidney Poitier played throughout his career?"
   ]
  },
  {
   "cell_type": "code",
   "execution_count": 211,
   "metadata": {},
   "outputs": [
    {
     "name": "stdout",
     "output_type": "stream",
     "text": [
      "43\n"
     ]
    }
   ],
   "source": [
    "record=data4[data4.name==\"Sidney Poitier\"]\n",
    "rec_count=record.count()\n",
    "count_of4=rec_count.tolist()\n",
    "print(count_of4[4])\n"
   ]
  },
  {
   "cell_type": "markdown",
   "metadata": {},
   "source": [
    "### How many roles has Judi Dench played?"
   ]
  },
  {
   "cell_type": "code",
   "execution_count": 210,
   "metadata": {},
   "outputs": [
    {
     "name": "stdout",
     "output_type": "stream",
     "text": [
      "55\n"
     ]
    }
   ],
   "source": [
    "record2=data4[data4.name==\"Judi Dench\"]\n",
    "rec2_count=record2.count()\n",
    "count_of5=rec2_count.tolist()\n",
    "print(count_of5[4])\n"
   ]
  },
  {
   "cell_type": "markdown",
   "metadata": {},
   "source": [
    "### List the supporting roles (having n=2) played by Cary Grant in the 1940s, in order by year."
   ]
  },
  {
   "cell_type": "code",
   "execution_count": 221,
   "metadata": {},
   "outputs": [
    {
     "name": "stdout",
     "output_type": "stream",
     "text": [
      "['Nick Arden', 'Roger Adams']\n"
     ]
    }
   ],
   "source": [
    "record3=data4[(data4.name==\"Cary Grant\") & ((data4.year>=1940) & (data4.year<=1949)) &(data4.n==2) ]\n",
    "record3=record3.sort_values(by=\"year\",ascending=True)\n",
    "supporting_roles=record3.character.tolist()\n",
    "print(supporting_roles)\n",
    "\n"
   ]
  },
  {
   "cell_type": "markdown",
   "metadata": {},
   "source": [
    "### List the leading roles that Cary Grant played in the 1940s in order by year."
   ]
  },
  {
   "cell_type": "code",
   "execution_count": 234,
   "metadata": {},
   "outputs": [
    {
     "name": "stdout",
     "output_type": "stream",
     "text": [
      "                                       title  year        name   type  \\\n",
      "871450                The Philadelphia Story  1940  Cary Grant  actor   \n",
      "871448               The Howards of Virginia  1940  Cary Grant  actor   \n",
      "871407                       His Girl Friday  1940  Cary Grant  actor   \n",
      "871423                      My Favorite Wife  1940  Cary Grant  actor   \n",
      "871438                             Suspicion  1941  Cary Grant  actor   \n",
      "871433                        Penny Serenade  1941  Cary Grant  actor   \n",
      "871452                  The Talk of the Town  1942  Cary Grant  actor   \n",
      "871429                 Once Upon a Honeymoon  1942  Cary Grant  actor   \n",
      "871398                     Destination Tokyo  1943  Cary Grant  actor   \n",
      "871422                             Mr. Lucky  1943  Cary Grant  actor   \n",
      "871390                  Arsenic and Old Lace  1944  Cary Grant  actor   \n",
      "871430                      Once Upon a Time  1944  Cary Grant  actor   \n",
      "871425             None But the Lonely Heart  1944  Cary Grant  actor   \n",
      "871405               George White's Scandals  1945  Cary Grant  actor   \n",
      "871424                         Night and Day  1946  Cary Grant  actor   \n",
      "871427                             Notorious  1946  Cary Grant  actor   \n",
      "871466                  Without Reservations  1946  Cary Grant  actor   \n",
      "871444      The Bachelor and the Bobby-Soxer  1947  Cary Grant  actor   \n",
      "871445                     The Bishop's Wife  1947  Cary Grant  actor   \n",
      "871421  Mr. Blandings Builds His Dream House  1948  Cary Grant  actor   \n",
      "871402          Every Girl Should Be Married  1948  Cary Grant  actor   \n",
      "871411                I Was a Male War Bride  1949  Cary Grant  actor   \n",
      "\n",
      "                                   character       n  \n",
      "871450                    C. K. Dexter Haven     1.0  \n",
      "871448                           Matt Howard     1.0  \n",
      "871407                          Walter Burns     1.0  \n",
      "871423                            Nick Arden     2.0  \n",
      "871438                      Johnnie Aysgarth     1.0  \n",
      "871433                           Roger Adams     2.0  \n",
      "871452                          Leopold Dilg     1.0  \n",
      "871429                 Patrick 'Pat' O'Toole     1.0  \n",
      "871398                         Capt. Cassidy     1.0  \n",
      "871422  Joe Adams -posing as Joe Bascopolous     1.0  \n",
      "871390                     Mortimer Brewster     1.0  \n",
      "871430                           Jerry Flynn     1.0  \n",
      "871425                            Ernie Mott     1.0  \n",
      "871405                            Cary Grant  1111.0  \n",
      "871424                           Cole Porter     1.0  \n",
      "871427                                Devlin     1.0  \n",
      "871466                            Cary Grant  1111.0  \n",
      "871444                           Dick Nugent     1.0  \n",
      "871445                                Dudley     1.0  \n",
      "871421                         Jim Blandings     1.0  \n",
      "871402                     Dr. Madison Brown     1.0  \n",
      "871411                 Captain Henri Rochard     1.0  \n"
     ]
    }
   ],
   "source": [
    "record4=data4[(data4.name==\"Cary Grant\") & ((data4.year>=1940) & (data4.year<=1949))]\n",
    "record4=record4.sort_values(by=\"year\",ascending=True)\n",
    "#supporting_roles=record3.character.tolist()\n",
    "#print(supporting_roles)\n",
    "\n",
    "print(record4)\n"
   ]
  },
  {
   "cell_type": "markdown",
   "metadata": {},
   "source": [
    "### How many roles were available for actors in the 1950s?"
   ]
  },
  {
   "cell_type": "code",
   "execution_count": 232,
   "metadata": {},
   "outputs": [
    {
     "name": "stdout",
     "output_type": "stream",
     "text": [
      "157738\n"
     ]
    }
   ],
   "source": [
    "record6=data4[(data4.type==\"actor\") & ((data4.year>=1950) & (data4.year<=1959)) ]\n",
    "#record3=record3.sort_values(by=\"year\",ascending=True)\n",
    "supporting_roles=record6.character.count()\n",
    "print(supporting_roles)\n",
    "\n"
   ]
  },
  {
   "cell_type": "markdown",
   "metadata": {},
   "source": [
    " ### How many roles were available for actresses in the 1950s?"
   ]
  },
  {
   "cell_type": "code",
   "execution_count": 233,
   "metadata": {},
   "outputs": [
    {
     "name": "stdout",
     "output_type": "stream",
     "text": [
      "57733\n"
     ]
    }
   ],
   "source": [
    "record7=data4[(data4.type==\"actress\") & ((data4.year>=1950) & (data4.year<=1959))]\n",
    "#record3=record3.sort_values(by=\"year\",ascending=True)\n",
    "supporting_roles=record7.character.count()\n",
    "print(supporting_roles)\n",
    "\n"
   ]
  },
  {
   "cell_type": "markdown",
   "metadata": {},
   "source": [
    "### How many leading roles (n=1) were available from the beginning of film history through 1980?"
   ]
  },
  {
   "cell_type": "code",
   "execution_count": 235,
   "metadata": {},
   "outputs": [
    {
     "name": "stdout",
     "output_type": "stream",
     "text": [
      "65140\n"
     ]
    }
   ],
   "source": [
    "# data is insufficient to decide the role is leading or supporting or non leading from the data. \n",
    "# because there is no column mention that. considering all n=1 rows as leading .\n",
    "\n",
    "record8=data4[ (data4.year<=1980) & (data4.n==1)]\n",
    "#record3=record3.sort_values(by=\"year\",ascending=True)\n",
    "lead_roles= record8.character.count()\n",
    "print(lead_roles)\n",
    "\n",
    "\n"
   ]
  },
  {
   "cell_type": "markdown",
   "metadata": {},
   "source": [
    "### How many non-leading roles were available through from the beginning of film history through 1980?"
   ]
  },
  {
   "cell_type": "code",
   "execution_count": 236,
   "metadata": {},
   "outputs": [
    {
     "name": "stdout",
     "output_type": "stream",
     "text": [
      "1117667\n"
     ]
    }
   ],
   "source": [
    "# data is insufficient to decide the role is leading or supporting or non leading from the data\n",
    "# because there is no column mention that. considering all other roles as supporting other than row having n=1.\n",
    "record9=data4[ (data4.year<=1980) & (data4.n!=1)]\n",
    "#record3=record3.sort_values(by=\"year\",ascending=True)\n",
    "Nonlead_roles= record9.character.count()\n",
    "print(Nonlead_roles)"
   ]
  },
  {
   "cell_type": "markdown",
   "metadata": {},
   "source": [
    "### How many roles through 1980 were minor enough that they did not warrant a numeric \"n\" rank?"
   ]
  },
  {
   "cell_type": "code",
   "execution_count": 243,
   "metadata": {},
   "outputs": [
    {
     "name": "stdout",
     "output_type": "stream",
     "text": [
      "1014692\n"
     ]
    }
   ],
   "source": [
    "# data is insufficient to decide the role is leading or supporting or non leading from the data\n",
    "# because there is no column mention that. \n",
    "data5 = pd.read_csv('C:/Users/91997/Downloads/cast.csv')\n",
    "data5[\"n\"].fillna(11111111,inplace=True)\n",
    "\n",
    "record9=data5[(data5.year>=1980) & (data5.n==11111111)]\n",
    "#record3=record3.sort_values(by=\"year\",ascending=True)\n",
    "Nonlead_roles= record9.character.count()\n",
    "print(Nonlead_roles)"
   ]
  },
  {
   "cell_type": "code",
   "execution_count": null,
   "metadata": {},
   "outputs": [],
   "source": []
  }
 ],
 "metadata": {
  "kernelspec": {
   "display_name": "Python 3",
   "language": "python",
   "name": "python3"
  },
  "language_info": {
   "codemirror_mode": {
    "name": "ipython",
    "version": 3
   },
   "file_extension": ".py",
   "mimetype": "text/x-python",
   "name": "python",
   "nbconvert_exporter": "python",
   "pygments_lexer": "ipython3",
   "version": "3.7.6"
  }
 },
 "nbformat": 4,
 "nbformat_minor": 4
}
