{
 "cells": [
  {
   "cell_type": "markdown",
   "metadata": {},
   "source": [
    "# Question 1 :\n",
    "__Research on whether addition, subtraction, multiplication, division, floor division and modulo\n",
    "operations be performed on complex numbers. Based on your study, implement a Python\n",
    "program to demonstrate these operations__.\n"
   ]
  },
  {
   "cell_type": "code",
   "execution_count": 15,
   "metadata": {},
   "outputs": [
    {
     "name": "stdout",
     "output_type": "stream",
     "text": [
      "Addition of two Complex number is (2+11j)\n",
      "Subtraction of two Complex number is (1-1j)\n",
      "Multiplication of two Complex number is (-28+17j)\n",
      "Division of two Complex number is (0.8648648648648648-0.1891891891891892j)\n"
     ]
    },
    {
     "data": {
      "text/plain": [
       "' Complex numbers are numbers with a real and imaginary part. \\nwe can not use Floor division and modulo operator on complex number because neither modulo nor floor division can accept a complex number as an operand.\\nTrying to use a complex number for floor division or modulo operations will raise a TypeError. '"
      ]
     },
     "execution_count": 15,
     "metadata": {},
     "output_type": "execute_result"
    }
   ],
   "source": [
    "#Addition Operation on complex numbers\n",
    "first=1+5j;\n",
    "second=1+6J;\n",
    "addition=first+second;\n",
    "print(\"Addition of two Complex number is\",addition)\n",
    "\n",
    "#Substraction Operation on complex number\n",
    "first=2+5j;\n",
    "second=1+6J;\n",
    "Sub=first-second;\n",
    "print(\"Subtraction of two Complex number is\",Sub)\n",
    "\n",
    "# Multiplacation Operation on Complex number\n",
    "first=2+5j;\n",
    "second=1+6J;\n",
    "Mul=first*second;\n",
    "print(\"Multiplication of two Complex number is\",Mul)\n",
    "\n",
    "#Division Operation on Complex number\n",
    "first=2+5j;\n",
    "second=1+6J;\n",
    "Div=first/second;\n",
    "print(\"Division of two Complex number is\",Div)\n",
    "\n",
    "# Floor division and modulo operator on complex number \n",
    "\"\"\" Complex numbers are numbers with a real and imaginary part. \n",
    "we can not use Floor division and modulo operator on complex number because neither modulo nor floor division can accept a complex number as an operand.\n",
    "Trying to use a complex number for floor division or modulo operations will raise a TypeError. \"\"\"\n"
   ]
  },
  {
   "cell_type": "markdown",
   "metadata": {},
   "source": [
    "# Question 2 :\n",
    "__Research on range() functions and its parameters. Create a markdown cell and write in your own\n",
    "words (no copy-paste from google please) what you understand about it. Implement a small\n",
    "program of your choice on the same.__\n",
    "\n"
   ]
  },
  {
   "cell_type": "markdown",
   "metadata": {},
   "source": [
    "# sol:\n",
    "\n",
    "\n",
    "1. Range is a in-build function in python which is used to return a sequence of number in other word we can say it  generate a integer number in between the given start integer number to the given stops integer number\n",
    "2. most it used with loop\n",
    "\n",
    "__Syntax:__\n",
    "\n",
    "range(start, stop, step)\n",
    "\n",
    "range function has three arguments, in which two are optional that is start and step\n",
    "\n",
    "__start:__\n",
    "        It is starting number of a range object in other word we can say it is a lower limit. if we did not mention the start then the range function will consider 0 by default\n",
    "\n",
    "__stop:__\n",
    "It is an Upper limit, i.e generate range upto this number, range function will not include stop number in the result  \n",
    "\n",
    "__step__\n",
    "        it is the difference between each number in the result, if we do not mention the step number then function will consider 1 by default \n",
    "\n",
    "        \n",
    "\n",
    "\n",
    "\n",
    " \n",
    " \n",
    "\n",
    "\n"
   ]
  },
  {
   "cell_type": "code",
   "execution_count": null,
   "metadata": {},
   "outputs": [],
   "source": []
  },
  {
   "cell_type": "code",
   "execution_count": null,
   "metadata": {},
   "outputs": [],
   "source": []
  },
  {
   "cell_type": "code",
   "execution_count": 49,
   "metadata": {},
   "outputs": [
    {
     "name": "stdout",
     "output_type": "stream",
     "text": [
      "Enter the Stop number(Upper limit) 5\n",
      "0\n",
      "1\n",
      "2\n",
      "3\n",
      "4\n",
      "Enter the Stop number(Upper limit) 5\n",
      "Enter the Start number(Lower limit) 0\n",
      "Enter the Step number1\n",
      "0\n",
      "1\n",
      "2\n",
      "3\n",
      "4\n"
     ]
    }
   ],
   "source": [
    "# Example of range function\n",
    "\"\"\" 1. without Step and Start \"\"\"  \n",
    "\n",
    "a=int(input(\"Enter the Stop number(Upper limit) \"))\n",
    "for itr in range(a):\n",
    "    print(itr);\n",
    "\n",
    "\"\"\" 2. with step and start \"\"\"\n",
    "Stop=int(input(\"Enter the Stop number(Upper limit) \"));\n",
    "Start=int(input(\"Enter the Start number(Lower limit) \"));\n",
    "Step=int(input(\"Enter the Step number\"));\n",
    "for itr in range(Start,Stop,Step):\n",
    "    print(itr)"
   ]
  },
  {
   "cell_type": "markdown",
   "metadata": {},
   "source": [
    "# Question 3:\n",
    "__Consider two numbers. Perform their subtraction and if the result of subtraction is greater than\n",
    "25, print their multiplication result else print their division result.__\n"
   ]
  },
  {
   "cell_type": "code",
   "execution_count": 31,
   "metadata": {},
   "outputs": [
    {
     "name": "stdout",
     "output_type": "stream",
     "text": [
      "Enter 1st number100\n",
      "Enter 2nd number74\n",
      "Multiplication of two number is 7400\n"
     ]
    }
   ],
   "source": [
    "first_number=int(input(\"Enter 1st number\"));\n",
    "second_number=int(input(\"Enter 2nd number\"));\n",
    "if ((first_number-second_number)>25):\n",
    "    print(\"Multiplication of two number is\",(first_number*second_number))\n",
    "else :\n",
    "    print(\"Division of two number is\",(first_number/second_number))\n"
   ]
  },
  {
   "cell_type": "markdown",
   "metadata": {},
   "source": [
    "# Question 4:\n",
    "\n",
    "__Consider a list of 10 elements of integer values. If the number in the list is divisible by 2, print the\n",
    "result as \"square of that number minus 2\"__"
   ]
  },
  {
   "cell_type": "code",
   "execution_count": 43,
   "metadata": {},
   "outputs": [
    {
     "name": "stdout",
     "output_type": "stream",
     "text": [
      "Result 98\n",
      "Result 9998\n",
      "Result 34\n",
      "Result 14\n",
      "Result 2\n"
     ]
    }
   ],
   "source": [
    "l=[10, 0, 100, 7, 6, 5, 4, 3, 2, 1]\n",
    "for itr in l:\n",
    "    if (itr!=0)and(itr%2==0):\n",
    "        print(\"Result\",(itr**2)-2)\n",
    "        \n",
    "        "
   ]
  },
  {
   "cell_type": "markdown",
   "metadata": {},
   "source": [
    "# Question 5:\n",
    "___Consider a list of 10 elements. Print all the elements in the list which are greater than 7 when that\n",
    "number is divided 2.___"
   ]
  },
  {
   "cell_type": "code",
   "execution_count": 47,
   "metadata": {},
   "outputs": [
    {
     "name": "stdout",
     "output_type": "stream",
     "text": [
      "Element which is greater than 7 when that number is divided 2 is 20\n",
      "Element which is greater than 7 when that number is divided 2 is 30\n",
      "Element which is greater than 7 when that number is divided 2 is 60\n"
     ]
    }
   ],
   "source": [
    "l=[20, 0, 8, 30, 60, 5, 4, 3, 2, 1]\n",
    "for itr in l:\n",
    "    if (((itr!=0)and(itr/2))>7):\n",
    "        print(\"Element which is greater than 7 when that number is divided 2 is\",itr)\n",
    "        "
   ]
  },
  {
   "cell_type": "code",
   "execution_count": 41,
   "metadata": {},
   "outputs": [
    {
     "data": {
      "text/plain": [
       "'C:\\\\Users\\\\Swapnil Dongare'"
      ]
     },
     "execution_count": 41,
     "metadata": {},
     "output_type": "execute_result"
    }
   ],
   "source": [
    "import os\n",
    "os.getcwd()"
   ]
  },
  {
   "cell_type": "code",
   "execution_count": null,
   "metadata": {},
   "outputs": [],
   "source": []
  }
 ],
 "metadata": {
  "kernelspec": {
   "display_name": "Python 3",
   "language": "python",
   "name": "python3"
  },
  "language_info": {
   "codemirror_mode": {
    "name": "ipython",
    "version": 3
   },
   "file_extension": ".py",
   "mimetype": "text/x-python",
   "name": "python",
   "nbconvert_exporter": "python",
   "pygments_lexer": "ipython3",
   "version": "3.7.6"
  }
 },
 "nbformat": 4,
 "nbformat_minor": 4
}
