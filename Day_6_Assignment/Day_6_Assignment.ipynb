{
 "cells": [
  {
   "cell_type": "markdown",
   "metadata": {},
   "source": [
    "# Question 1:\n",
    "__Assuming that we have some email addresses in the \"username@companyname.com\" format, please write program\n",
    "to print the company name of a given email address. Both user names and company names are composed of letters\n",
    "only.__\n",
    "> Example:\n",
    "Input Format:\n",
    "The first line of the input contains an email address.\n",
    "Output Format:\n",
    "Print the company name in single line.\n",
    "Example;\n",
    "Input:\n",
    "john@google.com\n",
    "Output:\n",
    "google\n"
   ]
  },
  {
   "cell_type": "code",
   "execution_count": 48,
   "metadata": {},
   "outputs": [
    {
     "name": "stdout",
     "output_type": "stream",
     "text": [
      "Input: john@google.com \n",
      "Output: google\n"
     ]
    }
   ],
   "source": [
    " a=input(\"Input: \")\n",
    "b=a.find(\"@\")\n",
    "c=a.find(\".\")\n",
    "if (b==-1 and c==-1)==0:\n",
    "    print(\"Output:\",a[b+1:c])\n",
    "else:\n",
    "    print(\"Given input is not valid\")\n"
   ]
  },
  {
   "cell_type": "markdown",
   "metadata": {},
   "source": [
    "# Question 2:\n",
    "__Write a program that accepts a comma-separated sequence of words as input and prints the words in a comma\n",
    "separated sequence after sorting them alphabetically.\n",
    "Input Format:\n",
    "The first line of input contains words separated by the comma.\n",
    "Output Format:\n",
    "Print the sorted words separated by the comma.__\n",
    ">Example:\n",
    "Input:\n",
    "without,hello,bag,world\n",
    "Output:\n",
    "bag,hello,without,world"
   ]
  },
  {
   "cell_type": "code",
   "execution_count": 61,
   "metadata": {},
   "outputs": [
    {
     "name": "stdout",
     "output_type": "stream",
     "text": [
      "Input: without,hello,bag,world\n",
      "Output: bag,hello,without,world\n"
     ]
    }
   ],
   "source": [
    "y=input(\"Input: \")\n",
    "y=y.split(\",\")\n",
    "y=sorted(y)\n",
    "print(\"Output:\",end=\" \")\n",
    "for i in y:\n",
    "    if i==y[len(y)-1]:\n",
    "        print(i)   \n",
    "    else:\n",
    "        print(i,end=\",\")\n"
   ]
  },
  {
   "cell_type": "markdown",
   "metadata": {},
   "source": [
    "# Question 4:\n",
    "__Given a list of n-1 numbers ranging from 1 to n, your task is to find the missing number. There are no duplicates.__\n",
    ">Input Format:\n",
    "The first line contains n-1 numbers with each number separated by a space.\n",
    "Output Format:\n",
    "Print the missing number\n",
    "Example:\n",
    "Input:1 2 4 6 3 7 8\n",
    "Output:5\n"
   ]
  },
  {
   "cell_type": "code",
   "execution_count": 49,
   "metadata": {},
   "outputs": [
    {
     "name": "stdout",
     "output_type": "stream",
     "text": [
      "Input: 1 2 4 6 3 7 8\n",
      "Output: 5 "
     ]
    }
   ],
   "source": [
    "in_=input(\"Input: \")\n",
    "in_=in_.split(\" \")\n",
    "maxi=int(max(in_))\n",
    "print(\"Output:\",end=\" \");\n",
    "for itr in range(1,maxi):\n",
    "    if str(itr) in in_:\n",
    "        continue\n",
    "    else:\n",
    "        print(str(itr),end=\" \")"
   ]
  },
  {
   "cell_type": "markdown",
   "metadata": {},
   "source": [
    "# Question 5:\n",
    "__With a given list L, write a program to print this list L after removing all duplicate values with original order reserved.__\n",
    ">Example:\n",
    "If the input list is\n",
    "12 24 35 24 88 120 155 88 120 155\n",
    "Then the output should be\n",
    "12 24 35 88 120 155\n",
    "Explanation:\n",
    "Third, seventh and ninth element of the list L has been removed because it was already present.\n",
    "Input Format:\n",
    "In one line take the elements of the list L with each element separated by a space.\n",
    "Output Format:\n",
    "Print the elements of the modified list in one line with each element separated by a space.\n",
    "Example:\n",
    "Input: 12 24 35 24\n",
    "Output:\n",
    "12 24 35\n"
   ]
  },
  {
   "cell_type": "code",
   "execution_count": 50,
   "metadata": {},
   "outputs": [
    {
     "name": "stdout",
     "output_type": "stream",
     "text": [
      "Input: 12 24 35 24 88 120 155 88 120 155\n",
      "Output: 12 24 35 88 120 155 "
     ]
    }
   ],
   "source": [
    "input_string = input(\"Input: \")\n",
    "userList = input_string.split()\n",
    "temp=[]\n",
    "cnt=0\n",
    "print(\"Output:\",end=\" \")\n",
    "for itr in userList:\n",
    "    if itr not in temp:\n",
    "        temp.append(itr)\n",
    "        print(temp[cnt],end=\" \")\n",
    "        cnt=cnt+1\n",
    "    "
   ]
  },
  {
   "cell_type": "code",
   "execution_count": 51,
   "metadata": {},
   "outputs": [
    {
     "data": {
      "text/plain": [
       "'C:\\\\Users\\\\Swapnil Dongare'"
      ]
     },
     "execution_count": 51,
     "metadata": {},
     "output_type": "execute_result"
    }
   ],
   "source": [
    "import os\n",
    "os.getcwd()"
   ]
  },
  {
   "cell_type": "code",
   "execution_count": null,
   "metadata": {},
   "outputs": [],
   "source": []
  }
 ],
 "metadata": {
  "kernelspec": {
   "display_name": "Python 3",
   "language": "python",
   "name": "python3"
  },
  "language_info": {
   "codemirror_mode": {
    "name": "ipython",
    "version": 3
   },
   "file_extension": ".py",
   "mimetype": "text/x-python",
   "name": "python",
   "nbconvert_exporter": "python",
   "pygments_lexer": "ipython3",
   "version": "3.7.6"
  }
 },
 "nbformat": 4,
 "nbformat_minor": 4
}
