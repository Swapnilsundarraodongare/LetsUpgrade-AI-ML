{
 "cells": [
  {
   "cell_type": "code",
   "execution_count": 2,
   "metadata": {},
   "outputs": [
    {
     "name": "stdout",
     "output_type": "stream",
     "text": [
      "(1+1j)\n"
     ]
    }
   ],
   "source": [
    "a=3 + 5j\n",
    "b=2 + 4j\n",
    "c=a-b\n",
    "print(c)"
   ]
  },
  {
   "cell_type": "code",
   "execution_count": 5,
   "metadata": {},
   "outputs": [
    {
     "name": "stdout",
     "output_type": "stream",
     "text": [
      "Enter your number16\n",
      "2.0\n"
     ]
    }
   ],
   "source": [
    "number=int(input(\"Enter your number\"))\n",
    "fourth_root=number**(1/4)\n",
    "print(fourth_root)"
   ]
  },
  {
   "cell_type": "code",
   "execution_count": 7,
   "metadata": {},
   "outputs": [
    {
     "name": "stdout",
     "output_type": "stream",
     "text": [
      "4\n",
      "2\n"
     ]
    }
   ],
   "source": [
    "first=2\n",
    "second=4\n",
    "temp=first\n",
    "first=second\n",
    "second=temp\n",
    "print(first)\n",
    "print(second)"
   ]
  },
  {
   "cell_type": "code",
   "execution_count": 8,
   "metadata": {},
   "outputs": [
    {
     "name": "stdout",
     "output_type": "stream",
     "text": [
      "4\n",
      "2\n"
     ]
    }
   ],
   "source": [
    "first=2\n",
    "second=4\n",
    "first=first ^ second\n",
    "second=first ^ second\n",
    "first= first ^ second\n",
    "print(first)\n",
    "print(second)\n"
   ]
  },
  {
   "cell_type": "code",
   "execution_count": 10,
   "metadata": {},
   "outputs": [
    {
     "name": "stdout",
     "output_type": "stream",
     "text": [
      "Enter the value122\n",
      "Fahrenheit to Celsius Conversion= 50.0\n",
      "Fahrenheit to Kelvin Conversion= 323.15000000000003\n"
     ]
    }
   ],
   "source": [
    "fer=int(input(\"Enter the value\"))\n",
    "cel=(fer - 32) * (5 / 9)\n",
    "kel=(fer + 459.67) * 5/9\n",
    "print(\"Fahrenheit to Celsius Conversion=\",cel)\n",
    "print(\"Fahrenheit to Kelvin Conversion=\",kel)\n"
   ]
  },
  {
   "cell_type": "code",
   "execution_count": 15,
   "metadata": {},
   "outputs": [
    {
     "name": "stdout",
     "output_type": "stream",
     "text": [
      "<class 'int'>\n",
      "<class 'int'>\n",
      "<class 'float'>\n",
      "<class 'complex'>\n",
      "<class 'str'>\n",
      "<class 'bool'>\n",
      "<class 'list'>\n"
     ]
    }
   ],
   "source": [
    "print(type(12)) #integer \n",
    "print(type(14423334545)) #long integer type\n",
    "print(type(12.5)) #float type\n",
    "print(type(1 + 3j)) #complex type\n",
    "print(type(\"swapnil\")) #string type\n",
    "print(type(True)) #boolen type\n",
    "print(type([1, 2, 1]))"
   ]
  },
  {
   "cell_type": "markdown",
   "metadata": {},
   "source": [
    "# Markdown Cell\n",
    "__List__:\n",
    "1. Create a account in Github\n",
    "2. Create a Github public repo and name it LetsUpgrade AI/ML\n",
    "3. Upload the files/solution in the repo in day wise manner.\n",
    "4. Copy the URL of the Folder of that day and paste in the Assignment Submission Form (Google Form)\n",
    "5. Make sure you are filling correct details in the Assignment Submission Form."
   ]
  },
  {
   "cell_type": "code",
   "execution_count": 16,
   "metadata": {},
   "outputs": [
    {
     "data": {
      "text/plain": [
       "'C:\\\\Users\\\\Swapnil Dongare'"
      ]
     },
     "execution_count": 16,
     "metadata": {},
     "output_type": "execute_result"
    }
   ],
   "source": [
    "import os\n",
    "os.getcwd()"
   ]
  },
  {
   "cell_type": "code",
   "execution_count": null,
   "metadata": {},
   "outputs": [],
   "source": []
  }
 ],
 "metadata": {
  "kernelspec": {
   "display_name": "Python 3",
   "language": "python",
   "name": "python3"
  },
  "language_info": {
   "codemirror_mode": {
    "name": "ipython",
    "version": 3
   },
   "file_extension": ".py",
   "mimetype": "text/x-python",
   "name": "python",
   "nbconvert_exporter": "python",
   "pygments_lexer": "ipython3",
   "version": "3.7.6"
  }
 },
 "nbformat": 4,
 "nbformat_minor": 4
}
