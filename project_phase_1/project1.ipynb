{
 "cells": [
  {
   "cell_type": "code",
   "execution_count": 72,
   "metadata": {},
   "outputs": [],
   "source": [
    "import os \n",
    "import sys \n",
    "import numpy as np\n",
    "import pandas as pd\n",
    "\n",
    "from sklearn.model_selection import train_test_split\n",
    "from scipy.io import loadmat"
   ]
  },
  {
   "cell_type": "code",
   "execution_count": 73,
   "metadata": {},
   "outputs": [],
   "source": [
    "\n",
    "from pyod.models.pca import PCA\n",
    "from pyod.models.mcd import MCD\n",
    "from pyod.models.ocsvm import OCSVM\n",
    "from pyod.models.lof import LOF\n",
    "from pyod.models.cblof import CBLOF\n",
    "from pyod.models.knn import KNN\n",
    "\n",
    "from pyod.models.hbos import HBOS\n",
    "from pyod.models.abod import ABOD\n",
    "\n",
    "from pyod.models.iforest import IForest\n",
    "from pyod.models.feature_bagging import FeatureBagging"
   ]
  },
  {
   "cell_type": "code",
   "execution_count": 74,
   "metadata": {},
   "outputs": [],
   "source": [
    "from pyod.utils.utility import standardizer\n",
    "from pyod.utils.utility import precision_n_scores\n",
    "from sklearn.metrics import roc_auc_score"
   ]
  },
  {
   "cell_type": "code",
   "execution_count": 75,
   "metadata": {},
   "outputs": [],
   "source": [
    "mat_file_list=['arrhythmia.mat',\n",
    "              'cardio.mat',\n",
    "              'glass.mat',\n",
    "              'ionosphere.mat',\n",
    "              'letter.mat',\n",
    "              'lympho.mat',\n",
    "              'mnist.mat',\n",
    "              'musk.mat',\n",
    "              'optdigits.mat',\n",
    "              'pendigits.mat',\n",
    "              'pima.mat',\n",
    "              'satellite.mat',\n",
    "              'satimage-2.mat',\n",
    "              'shuttle.mat',\n",
    "              'vertebral.mat',\n",
    "              'vowels.mat',\n",
    "              'wbc.mat']\n",
    "\n"
   ]
  },
  {
   "cell_type": "markdown",
   "metadata": {},
   "source": []
  },
  {
   "cell_type": "code",
   "execution_count": null,
   "metadata": {},
   "outputs": [],
   "source": [
    "\n"
   ]
  },
  {
   "cell_type": "code",
   "execution_count": 76,
   "metadata": {},
   "outputs": [
    {
     "data": {
      "text/plain": [
       "{'__header__': b'MATLAB 5.0 MAT-file, written by Octave 3.8.0, 2014-12-18 10:48:09 UTC',\n",
       " '__version__': '1.0',\n",
       " '__globals__': [],\n",
       " 'X': array([[ 0.00491231,  0.69319077, -0.20364049, ...,  0.23149795,\n",
       "         -0.28978574, -0.49329397],\n",
       "        [ 0.11072935, -0.07990259, -0.20364049, ...,  0.09356344,\n",
       "         -0.25638541, -0.49329397],\n",
       "        [ 0.21654639, -0.27244466, -0.20364049, ...,  0.02459619,\n",
       "         -0.25638541,  1.14001753],\n",
       "        ...,\n",
       "        [-0.41835583, -0.91998844, -0.16463485, ..., -1.49268341,\n",
       "          0.24461959, -0.49329397],\n",
       "        [-0.41835583, -0.91998844, -0.15093411, ..., -1.42371616,\n",
       "          0.14441859, -0.49329397],\n",
       "        [-0.41835583, -0.91998844, -0.20364049, ..., -1.28578165,\n",
       "          3.58465295, -0.49329397]]),\n",
       " 'y': array([[0.],\n",
       "        [0.],\n",
       "        [0.],\n",
       "        ...,\n",
       "        [1.],\n",
       "        [1.],\n",
       "        [1.]])}"
      ]
     },
     "execution_count": 76,
     "metadata": {},
     "output_type": "execute_result"
    }
   ],
   "source": [
    "data=loadmat('cardio.mat')\n",
    "data"
   ]
  },
  {
   "cell_type": "code",
   "execution_count": 77,
   "metadata": {},
   "outputs": [
    {
     "data": {
      "text/plain": [
       "5"
      ]
     },
     "execution_count": 77,
     "metadata": {},
     "output_type": "execute_result"
    }
   ],
   "source": [
    "len(data)"
   ]
  },
  {
   "cell_type": "code",
   "execution_count": 78,
   "metadata": {},
   "outputs": [
    {
     "data": {
      "text/plain": [
       "dict_keys(['__header__', '__version__', '__globals__', 'X', 'y'])"
      ]
     },
     "execution_count": 78,
     "metadata": {},
     "output_type": "execute_result"
    }
   ],
   "source": [
    "data.keys()"
   ]
  },
  {
   "cell_type": "code",
   "execution_count": 79,
   "metadata": {},
   "outputs": [
    {
     "data": {
      "text/plain": [
       "dict_values([b'MATLAB 5.0 MAT-file, written by Octave 3.8.0, 2014-12-18 10:48:09 UTC', '1.0', [], array([[ 0.00491231,  0.69319077, -0.20364049, ...,  0.23149795,\n",
       "        -0.28978574, -0.49329397],\n",
       "       [ 0.11072935, -0.07990259, -0.20364049, ...,  0.09356344,\n",
       "        -0.25638541, -0.49329397],\n",
       "       [ 0.21654639, -0.27244466, -0.20364049, ...,  0.02459619,\n",
       "        -0.25638541,  1.14001753],\n",
       "       ...,\n",
       "       [-0.41835583, -0.91998844, -0.16463485, ..., -1.49268341,\n",
       "         0.24461959, -0.49329397],\n",
       "       [-0.41835583, -0.91998844, -0.15093411, ..., -1.42371616,\n",
       "         0.14441859, -0.49329397],\n",
       "       [-0.41835583, -0.91998844, -0.20364049, ..., -1.28578165,\n",
       "         3.58465295, -0.49329397]]), array([[0.],\n",
       "       [0.],\n",
       "       [0.],\n",
       "       ...,\n",
       "       [1.],\n",
       "       [1.],\n",
       "       [1.]])])"
      ]
     },
     "execution_count": 79,
     "metadata": {},
     "output_type": "execute_result"
    }
   ],
   "source": [
    "data.values()"
   ]
  },
  {
   "cell_type": "markdown",
   "metadata": {},
   "source": [
    "## input (independent) feature shape in mat file format"
   ]
  },
  {
   "cell_type": "code",
   "execution_count": 80,
   "metadata": {},
   "outputs": [
    {
     "data": {
      "text/plain": [
       "(numpy.ndarray, (1831, 21))"
      ]
     },
     "execution_count": 80,
     "metadata": {},
     "output_type": "execute_result"
    }
   ],
   "source": [
    "type(data['X']), data['X'].shape"
   ]
  },
  {
   "cell_type": "markdown",
   "metadata": {},
   "source": [
    "##  dependent /target/output feature shape "
   ]
  },
  {
   "cell_type": "code",
   "execution_count": 81,
   "metadata": {},
   "outputs": [
    {
     "data": {
      "text/plain": [
       "(numpy.ndarray, (1831, 1))"
      ]
     },
     "execution_count": 81,
     "metadata": {},
     "output_type": "execute_result"
    }
   ],
   "source": [
    "type(data['y']),data['y'].shape"
   ]
  },
  {
   "cell_type": "code",
   "execution_count": 82,
   "metadata": {},
   "outputs": [],
   "source": [
    "df_columns=['Data','#Samples','# Dimensions','Outlier Perc','ABOD','CBLOF','FB','HBOS',\"IForest\",\"KNN\",\"LOF\",\"MCD\",\"OCSVM\",\"PCA\"]\n",
    "\n",
    "\n",
    "\n"
   ]
  },
  {
   "cell_type": "markdown",
   "metadata": {},
   "source": [
    "### ROC performance evaluation table "
   ]
  },
  {
   "cell_type": "code",
   "execution_count": 83,
   "metadata": {},
   "outputs": [],
   "source": [
    "roc_df=pd.DataFrame(columns=df_columns)"
   ]
  },
  {
   "cell_type": "markdown",
   "metadata": {},
   "source": [
    "### precision-n_scores performance evaluation table"
   ]
  },
  {
   "cell_type": "code",
   "execution_count": 84,
   "metadata": {},
   "outputs": [],
   "source": [
    "prn_df=pd.DataFrame(columns=df_columns)"
   ]
  },
  {
   "cell_type": "markdown",
   "metadata": {},
   "source": [
    "## Time dataframe"
   ]
  },
  {
   "cell_type": "code",
   "execution_count": 85,
   "metadata": {},
   "outputs": [],
   "source": [
    "time_df=pd.DataFrame(columns=df_columns)"
   ]
  },
  {
   "cell_type": "markdown",
   "metadata": {},
   "source": [
    "### Exploring all data files"
   ]
  },
  {
   "cell_type": "code",
   "execution_count": 102,
   "metadata": {
    "scrolled": true
   },
   "outputs": [
    {
     "name": "stdout",
     "output_type": "stream",
     "text": [
      "\n",
      " ......Processing arrhythmia.mat ...\n",
      "Angle-based Outlier Detector (ABOD) ROC:0.7687, precison @ rank n:0.3571,esection time: 0.1845s\n",
      "Cluster-based Local Outlier Factor ROC:0.7684, precison @ rank n:0.4643,esection time: 0.1536s\n",
      "feature Bagging ROC:0.7799, precison @ rank n:0.5,esection time: 0.7201s\n",
      "Histogram-base Outlier Detection (HBOS) ROC:0.8511, precison @ rank n:0.5714,esection time: 0.0733s\n",
      "Isolation Forest ROC:0.8527, precison @ rank n:0.5714,esection time: 0.4986s\n",
      "K nearest neighbors (KNN) ROC:0.782, precison @ rank n:0.5,esection time: 0.1052s\n",
      "Local Outlier Factor (LOF) ROC:0.7787, precison @ rank n:0.4643,esection time: 0.0882s\n"
     ]
    },
    {
     "name": "stderr",
     "output_type": "stream",
     "text": [
      "C:\\Users\\91997\\anaconda3\\lib\\site-packages\\sklearn\\covariance\\_robust_covariance.py:644: UserWarning: The covariance matrix associated to your dataset is not full rank\n",
      "  warnings.warn(\"The covariance matrix associated to your dataset \"\n"
     ]
    },
    {
     "name": "stdout",
     "output_type": "stream",
     "text": [
      "MCD ROC:0.8228, precison @ rank n:0.4286,esection time: 0.6907s\n",
      "OCSVM ROC:0.7986, precison @ rank n:0.5,esection time: 0.0558s\n",
      "Principal Component Analysis (PCA) ROC:0.7997, precison @ rank n:0.5,esection time: 0.0728s\n",
      "\n",
      " ......Processing cardio.mat ...\n",
      "Angle-based Outlier Detector (ABOD) ROC:0.5763, precison @ rank n:0.1875,esection time: 0.4768s\n",
      "Cluster-based Local Outlier Factor ROC:0.8221, precison @ rank n:0.4844,esection time: 0.191s\n",
      "feature Bagging ROC:0.4879, precison @ rank n:0.1406,esection time: 1.1345s\n",
      "Histogram-base Outlier Detection (HBOS) ROC:0.8453, precison @ rank n:0.4688,esection time: 0.011s\n",
      "Isolation Forest ROC:0.9414, precison @ rank n:0.5,esection time: 0.4786s\n",
      "K nearest neighbors (KNN) ROC:0.6959, precison @ rank n:0.2812,esection time: 0.1745s\n",
      "Local Outlier Factor (LOF) ROC:0.4715, precison @ rank n:0.125,esection time: 0.1167s\n"
     ]
    },
    {
     "name": "stderr",
     "output_type": "stream",
     "text": [
      "C:\\Users\\91997\\anaconda3\\lib\\site-packages\\sklearn\\covariance\\_robust_covariance.py:644: UserWarning: The covariance matrix associated to your dataset is not full rank\n",
      "  warnings.warn(\"The covariance matrix associated to your dataset \"\n",
      "C:\\Users\\91997\\anaconda3\\lib\\site-packages\\sklearn\\covariance\\_robust_covariance.py:170: RuntimeWarning: Determinant has increased; this should not happen: log(det) > log(previous_det) (-152.076751858648862 > -250.756822706501453). You may want to try with a higher value of support_fraction (current value: 0.511).\n",
      "  RuntimeWarning)\n"
     ]
    },
    {
     "name": "stdout",
     "output_type": "stream",
     "text": [
      "MCD ROC:0.8778, precison @ rank n:0.3906,esection time: 0.6328s\n",
      "OCSVM ROC:0.9507, precison @ rank n:0.5938,esection time: 0.1033s\n",
      "Principal Component Analysis (PCA) ROC:0.9638, precison @ rank n:0.6875,esection time: 0.005s\n",
      "\n",
      " ......Processing glass.mat ...\n",
      "Angle-based Outlier Detector (ABOD) ROC:0.7104, precison @ rank n:0.25,esection time: 0.0529s\n",
      "Cluster-based Local Outlier Factor ROC:0.8506, precison @ rank n:0.25,esection time: 0.0618s\n",
      "feature Bagging ROC:0.7043, precison @ rank n:0.25,esection time: 0.0439s\n",
      "Histogram-base Outlier Detection (HBOS) ROC:0.6524, precison @ rank n:0.0,esection time: 0.004s\n",
      "Isolation Forest ROC:0.7195, precison @ rank n:0.25,esection time: 0.3561s\n",
      "K nearest neighbors (KNN) ROC:0.7805, precison @ rank n:0.25,esection time: 0.011s\n",
      "Local Outlier Factor (LOF) ROC:0.7774, precison @ rank n:0.25,esection time: 0.004s\n",
      "MCD ROC:0.7165, precison @ rank n:0.0,esection time: 0.0419s\n",
      "OCSVM ROC:0.6189, precison @ rank n:0.25,esection time: 0.002s\n",
      "Principal Component Analysis (PCA) ROC:0.622, precison @ rank n:0.25,esection time: 0.003s\n",
      "\n",
      " ......Processing ionosphere.mat ...\n",
      "Angle-based Outlier Detector (ABOD) ROC:0.9004, precison @ rank n:0.8214,esection time: 0.0848s\n",
      "Cluster-based Local Outlier Factor ROC:0.8952, precison @ rank n:0.8036,esection time: 0.0728s\n",
      "feature Bagging ROC:0.8933, precison @ rank n:0.75,esection time: 0.0838s\n",
      "Histogram-base Outlier Detection (HBOS) ROC:0.5195, precison @ rank n:0.3393,esection time: 0.011s\n",
      "Isolation Forest ROC:0.8309, precison @ rank n:0.6607,esection time: 0.4568s\n",
      "K nearest neighbors (KNN) ROC:0.9134, precison @ rank n:0.8393,esection time: 0.0199s\n",
      "Local Outlier Factor (LOF) ROC:0.8989, precison @ rank n:0.75,esection time: 0.009s\n",
      "MCD ROC:0.9399, precison @ rank n:0.8571,esection time: 0.0743s\n",
      "OCSVM ROC:0.8372, precison @ rank n:0.7143,esection time: 0.006s\n",
      "Principal Component Analysis (PCA) ROC:0.7971, precison @ rank n:0.5893,esection time: 0.004s\n",
      "\n",
      " ......Processing letter.mat ...\n",
      "Angle-based Outlier Detector (ABOD) ROC:0.8465, precison @ rank n:0.275,esection time: 0.4768s\n",
      "Cluster-based Local Outlier Factor ROC:0.7423, precison @ rank n:0.175,esection time: 0.1462s\n",
      "feature Bagging ROC:0.866, precison @ rank n:0.4,esection time: 0.8717s\n",
      "Histogram-base Outlier Detection (HBOS) ROC:0.5728, precison @ rank n:0.125,esection time: 0.0124s\n",
      "Isolation Forest ROC:0.5778, precison @ rank n:0.05,esection time: 0.5102s\n",
      "K nearest neighbors (KNN) ROC:0.845, precison @ rank n:0.3,esection time: 0.1636s\n",
      "Local Outlier Factor (LOF) ROC:0.8409, precison @ rank n:0.325,esection time: 0.1199s\n",
      "MCD ROC:0.7499, precison @ rank n:0.075,esection time: 1.3184s\n",
      "OCSVM ROC:0.5744, precison @ rank n:0.1,esection time: 0.0977s\n",
      "Principal Component Analysis (PCA) ROC:0.48, precison @ rank n:0.05,esection time: 0.006s\n",
      "\n",
      " ......Processing lympho.mat ...\n",
      "Angle-based Outlier Detector (ABOD) ROC:0.9382, precison @ rank n:0.4,esection time: 0.0369s\n",
      "Cluster-based Local Outlier Factor ROC:0.9709, precison @ rank n:0.6,esection time: 0.0658s\n",
      "feature Bagging ROC:0.9673, precison @ rank n:0.6,esection time: 0.0475s\n",
      "Histogram-base Outlier Detection (HBOS) ROC:0.9964, precison @ rank n:0.8,esection time: 0.007s\n",
      "Isolation Forest ROC:0.9855, precison @ rank n:0.6,esection time: 0.3651s\n",
      "K nearest neighbors (KNN) ROC:0.9636, precison @ rank n:0.6,esection time: 0.008s\n",
      "Local Outlier Factor (LOF) ROC:0.9636, precison @ rank n:0.6,esection time: 0.003s\n",
      "MCD ROC:0.9164, precison @ rank n:0.6,esection time: 0.0439s\n",
      "OCSVM ROC:0.9636, precison @ rank n:0.6,esection time: 0.002s\n",
      "Principal Component Analysis (PCA) ROC:0.9818, precison @ rank n:0.8,esection time: 0.002s\n",
      "\n",
      " ......Processing mnist.mat ...\n"
     ]
    },
    {
     "name": "stderr",
     "output_type": "stream",
     "text": [
      "C:\\Users\\91997\\anaconda3\\lib\\site-packages\\sklearn\\covariance\\_robust_covariance.py:170: RuntimeWarning: Determinant has increased; this should not happen: log(det) > log(previous_det) (-303.881944356529402 > -525.830836350540153). You may want to try with a higher value of support_fraction (current value: 0.614).\n",
      "  RuntimeWarning)\n",
      "C:\\Users\\91997\\anaconda3\\lib\\site-packages\\sklearn\\covariance\\_robust_covariance.py:170: RuntimeWarning: Determinant has increased; this should not happen: log(det) > log(previous_det) (-304.021763033307082 > -523.143378896311901). You may want to try with a higher value of support_fraction (current value: 0.614).\n",
      "  RuntimeWarning)\n",
      "C:\\Users\\91997\\anaconda3\\lib\\site-packages\\sklearn\\covariance\\_robust_covariance.py:170: RuntimeWarning: Determinant has increased; this should not happen: log(det) > log(previous_det) (-338.921775030610604 > -381.672782741425522). You may want to try with a higher value of support_fraction (current value: 0.614).\n",
      "  RuntimeWarning)\n"
     ]
    },
    {
     "name": "stdout",
     "output_type": "stream",
     "text": [
      "Angle-based Outlier Detector (ABOD) ROC:0.7813, precison @ rank n:0.3562,esection time: 8.943s\n",
      "Cluster-based Local Outlier Factor ROC:0.8447, precison @ rank n:0.4007,esection time: 1.2477s\n",
      "feature Bagging ROC:0.7259, precison @ rank n:0.3664,esection time: 61.3186s\n",
      "Histogram-base Outlier Detection (HBOS) ROC:0.5675, precison @ rank n:0.1199,esection time: 0.0858s\n",
      "Isolation Forest ROC:0.7801, precison @ rank n:0.2979,esection time: 2.6451s\n",
      "K nearest neighbors (KNN) ROC:0.8409, precison @ rank n:0.4144,esection time: 7.6673s\n",
      "Local Outlier Factor (LOF) ROC:0.7085, precison @ rank n:0.339,esection time: 7.4682s\n"
     ]
    },
    {
     "name": "stderr",
     "output_type": "stream",
     "text": [
      "C:\\Users\\91997\\anaconda3\\lib\\site-packages\\sklearn\\covariance\\_robust_covariance.py:644: UserWarning: The covariance matrix associated to your dataset is not full rank\n",
      "  warnings.warn(\"The covariance matrix associated to your dataset \"\n"
     ]
    },
    {
     "name": "stdout",
     "output_type": "stream",
     "text": [
      "MCD ROC:0.863, precison @ rank n:0.3973,esection time: 5.5381s\n",
      "OCSVM ROC:0.8417, precison @ rank n:0.3801,esection time: 5.9202s\n",
      "Principal Component Analysis (PCA) ROC:0.8396, precison @ rank n:0.3767,esection time: 0.2015s\n",
      "\n",
      " ......Processing musk.mat ...\n",
      "Angle-based Outlier Detector (ABOD) ROC:0.0809, precison @ rank n:0.0333,esection time: 3.7789s\n",
      "Cluster-based Local Outlier Factor ROC:1.0, precison @ rank n:1.0,esection time: 0.5076s\n",
      "feature Bagging ROC:0.5228, precison @ rank n:0.1667,esection time: 17.21s\n",
      "Histogram-base Outlier Detection (HBOS) ROC:0.9999, precison @ rank n:0.9667,esection time: 0.0688s\n",
      "Isolation Forest ROC:0.9996, precison @ rank n:0.9333,esection time: 1.5359s\n",
      "K nearest neighbors (KNN) ROC:0.7348, precison @ rank n:0.2333,esection time: 2.1084s\n",
      "Local Outlier Factor (LOF) ROC:0.5323, precison @ rank n:0.1333,esection time: 1.9468s\n",
      "MCD ROC:1.0, precison @ rank n:0.9667,esection time: 13.5548s\n",
      "OCSVM ROC:1.0, precison @ rank n:1.0,esection time: 1.3863s\n",
      "Principal Component Analysis (PCA) ROC:1.0, precison @ rank n:1.0,esection time: 0.1715s\n",
      "\n",
      " ......Processing optdigits.mat ...\n",
      "Angle-based Outlier Detector (ABOD) ROC:0.4428, precison @ rank n:0.0161,esection time: 2.8075s\n",
      "Cluster-based Local Outlier Factor ROC:0.7852, precison @ rank n:0.0,esection time: 0.5426s\n",
      "feature Bagging ROC:0.4641, precison @ rank n:0.0484,esection time: 15.9274s\n",
      "Histogram-base Outlier Detection (HBOS) ROC:0.8822, precison @ rank n:0.2581,esection time: 0.0349s\n",
      "Isolation Forest ROC:0.5764, precison @ rank n:0.0161,esection time: 1.0781s\n",
      "K nearest neighbors (KNN) ROC:0.3824, precison @ rank n:0.0,esection time: 1.9997s\n",
      "Local Outlier Factor (LOF) ROC:0.4584, precison @ rank n:0.0484,esection time: 1.9328s\n"
     ]
    },
    {
     "name": "stderr",
     "output_type": "stream",
     "text": [
      "C:\\Users\\91997\\anaconda3\\lib\\site-packages\\sklearn\\covariance\\_robust_covariance.py:644: UserWarning: The covariance matrix associated to your dataset is not full rank\n",
      "  warnings.warn(\"The covariance matrix associated to your dataset \"\n"
     ]
    },
    {
     "name": "stdout",
     "output_type": "stream",
     "text": [
      "MCD ROC:0.3486, precison @ rank n:0.0,esection time: 1.4451s\n",
      "OCSVM ROC:0.4972, precison @ rank n:0.0,esection time: 1.5868s\n",
      "Principal Component Analysis (PCA) ROC:0.504, precison @ rank n:0.0,esection time: 0.056s\n",
      "\n",
      " ......Processing pendigits.mat ...\n",
      "Angle-based Outlier Detector (ABOD) ROC:0.7008, precison @ rank n:0.0308,esection time: 1.6666s\n",
      "Cluster-based Local Outlier Factor ROC:0.9609, precison @ rank n:0.3077,esection time: 0.3141s\n",
      "feature Bagging ROC:0.4687, precison @ rank n:0.0462,esection time: 5.1682s\n",
      "Histogram-base Outlier Detection (HBOS) ROC:0.9294, precison @ rank n:0.2615,esection time: 0.011s\n",
      "Isolation Forest ROC:0.9422, precison @ rank n:0.2769,esection time: 0.7759s\n",
      "K nearest neighbors (KNN) ROC:0.7602, precison @ rank n:0.0462,esection time: 0.6991s\n",
      "Local Outlier Factor (LOF) ROC:0.481, precison @ rank n:0.0462,esection time: 0.6413s\n",
      "MCD ROC:0.8271, precison @ rank n:0.0615,esection time: 2.1502s\n",
      "OCSVM ROC:0.93, precison @ rank n:0.2923,esection time: 1.0123s\n",
      "Principal Component Analysis (PCA) ROC:0.9332, precison @ rank n:0.3385,esection time: 0.01s\n",
      "\n",
      " ......Processing pima.mat ...\n",
      "Angle-based Outlier Detector (ABOD) ROC:0.6757, precison @ rank n:0.5106,esection time: 0.2274s\n",
      "Cluster-based Local Outlier Factor ROC:0.684, precison @ rank n:0.4681,esection time: 0.1177s\n",
      "feature Bagging ROC:0.6446, precison @ rank n:0.4468,esection time: 0.1446s\n",
      "Histogram-base Outlier Detection (HBOS) ROC:0.7169, precison @ rank n:0.5213,esection time: 0.004s\n",
      "Isolation Forest ROC:0.6604, precison @ rank n:0.4787,esection time: 0.4897s\n",
      "K nearest neighbors (KNN) ROC:0.7252, precison @ rank n:0.5106,esection time: 0.0369s\n",
      "Local Outlier Factor (LOF) ROC:0.6604, precison @ rank n:0.4787,esection time: 0.012s\n",
      "MCD ROC:0.7047, precison @ rank n:0.4787,esection time: 0.0529s\n",
      "OCSVM ROC:0.6423, precison @ rank n:0.4574,esection time: 0.014s\n",
      "Principal Component Analysis (PCA) ROC:0.6639, precison @ rank n:0.5,esection time: 0.002s\n",
      "\n",
      " ......Processing satellite.mat ...\n",
      "Angle-based Outlier Detector (ABOD) ROC:0.5681, precison @ rank n:0.3918,esection time: 2.0426s\n",
      "Cluster-based Local Outlier Factor ROC:0.7234, precison @ rank n:0.5574,esection time: 0.3999s\n",
      "feature Bagging ROC:0.557, precison @ rank n:0.4051,esection time: 8.1512s\n",
      "Histogram-base Outlier Detection (HBOS) ROC:0.7393, precison @ rank n:0.5466,esection time: 0.0219s\n",
      "Isolation Forest ROC:0.6843, precison @ rank n:0.5719,esection time: 0.9544s\n",
      "K nearest neighbors (KNN) ROC:0.6781, precison @ rank n:0.4994,esection time: 1.1968s\n",
      "Local Outlier Factor (LOF) ROC:0.5551, precison @ rank n:0.4051,esection time: 1.0821s\n",
      "MCD ROC:0.792, precison @ rank n:0.6747,esection time: 2.609s\n",
      "OCSVM ROC:0.636, precison @ rank n:0.5224,esection time: 1.4751s\n",
      "Principal Component Analysis (PCA) ROC:0.5783, precison @ rank n:0.4559,esection time: 0.0269s\n",
      "\n",
      " ......Processing satimage-2.mat ...\n",
      "Angle-based Outlier Detector (ABOD) ROC:0.86, precison @ rank n:0.2593,esection time: 1.8153s\n",
      "Cluster-based Local Outlier Factor ROC:0.9987, precison @ rank n:0.8889,esection time: 0.3411s\n",
      "feature Bagging ROC:0.4971, precison @ rank n:0.0741,esection time: 6.7141s\n",
      "Histogram-base Outlier Detection (HBOS) ROC:0.9837, precison @ rank n:0.5926,esection time: 0.0199s\n",
      "Isolation Forest ROC:0.9962, precison @ rank n:0.8889,esection time: 0.8378s\n",
      "K nearest neighbors (KNN) ROC:0.9505, precison @ rank n:0.3704,esection time: 0.9564s\n",
      "Local Outlier Factor (LOF) ROC:0.5006, precison @ rank n:0.0741,esection time: 0.8218s\n",
      "MCD ROC:0.9946, precison @ rank n:0.5185,esection time: 2.4096s\n",
      "OCSVM ROC:0.9976, precison @ rank n:0.9259,esection time: 1.2078s\n",
      "Principal Component Analysis (PCA) ROC:0.9841, precison @ rank n:0.8519,esection time: 0.0219s\n",
      "\n",
      " ......Processing shuttle.mat ...\n",
      "Angle-based Outlier Detector (ABOD) ROC:0.6186, precison @ rank n:0.1918,esection time: 17.8712s\n",
      "Cluster-based Local Outlier Factor ROC:0.6287, precison @ rank n:0.2336,esection time: 1.3195s\n",
      "feature Bagging ROC:0.5211, precison @ rank n:0.111,esection time: 59.0493s\n",
      "Histogram-base Outlier Detection (HBOS) ROC:0.9851, precison @ rank n:0.9857,esection time: 0.0269s\n",
      "Isolation Forest ROC:0.997, precison @ rank n:0.9308,esection time: 4.0312s\n",
      "K nearest neighbors (KNN) ROC:0.645, precison @ rank n:0.2199,esection time: 10.491s\n",
      "Local Outlier Factor (LOF) ROC:0.5347, precison @ rank n:0.1406,esection time: 14.1772s\n"
     ]
    },
    {
     "name": "stderr",
     "output_type": "stream",
     "text": [
      "C:\\Users\\91997\\anaconda3\\lib\\site-packages\\sklearn\\covariance\\_robust_covariance.py:170: RuntimeWarning: Determinant has increased; this should not happen: log(det) > log(previous_det) (-49.541490230701029 > -75.592253998160075). You may want to try with a higher value of support_fraction (current value: 0.503).\n",
      "  RuntimeWarning)\n",
      "C:\\Users\\91997\\anaconda3\\lib\\site-packages\\sklearn\\covariance\\_robust_covariance.py:170: RuntimeWarning: Determinant has increased; this should not happen: log(det) > log(previous_det) (-50.022992269210960 > -76.150022952275933). You may want to try with a higher value of support_fraction (current value: 0.503).\n",
      "  RuntimeWarning)\n",
      "C:\\Users\\91997\\anaconda3\\lib\\site-packages\\sklearn\\covariance\\_robust_covariance.py:170: RuntimeWarning: Determinant has increased; this should not happen: log(det) > log(previous_det) (-48.588090860494539 > -73.997089087121466). You may want to try with a higher value of support_fraction (current value: 0.503).\n",
      "  RuntimeWarning)\n",
      "C:\\Users\\91997\\anaconda3\\lib\\site-packages\\sklearn\\covariance\\_robust_covariance.py:170: RuntimeWarning: Determinant has increased; this should not happen: log(det) > log(previous_det) (-50.127165967938183 > -76.814431864511675). You may want to try with a higher value of support_fraction (current value: 0.501).\n",
      "  RuntimeWarning)\n",
      "C:\\Users\\91997\\anaconda3\\lib\\site-packages\\sklearn\\covariance\\_robust_covariance.py:170: RuntimeWarning: Determinant has increased; this should not happen: log(det) > log(previous_det) (-50.260339163313539 > -78.023249567800050). You may want to try with a higher value of support_fraction (current value: 0.501).\n",
      "  RuntimeWarning)\n",
      "C:\\Users\\91997\\anaconda3\\lib\\site-packages\\sklearn\\covariance\\_robust_covariance.py:170: RuntimeWarning: Determinant has increased; this should not happen: log(det) > log(previous_det) (-50.088727288180230 > -75.807071893752777). You may want to try with a higher value of support_fraction (current value: 0.501).\n",
      "  RuntimeWarning)\n",
      "C:\\Users\\91997\\anaconda3\\lib\\site-packages\\sklearn\\covariance\\_robust_covariance.py:170: RuntimeWarning: Determinant has increased; this should not happen: log(det) > log(previous_det) (-50.582785491594258 > -76.839560162782732). You may want to try with a higher value of support_fraction (current value: 0.501).\n",
      "  RuntimeWarning)\n",
      "C:\\Users\\91997\\anaconda3\\lib\\site-packages\\sklearn\\covariance\\_robust_covariance.py:170: RuntimeWarning: Determinant has increased; this should not happen: log(det) > log(previous_det) (-50.000544286938272 > -76.024708215839055). You may want to try with a higher value of support_fraction (current value: 0.501).\n",
      "  RuntimeWarning)\n",
      "C:\\Users\\91997\\anaconda3\\lib\\site-packages\\sklearn\\covariance\\_robust_covariance.py:170: RuntimeWarning: Determinant has increased; this should not happen: log(det) > log(previous_det) (-50.556584528453939 > -77.098667780847151). You may want to try with a higher value of support_fraction (current value: 0.501).\n",
      "  RuntimeWarning)\n",
      "C:\\Users\\91997\\anaconda3\\lib\\site-packages\\sklearn\\covariance\\_robust_covariance.py:170: RuntimeWarning: Determinant has increased; this should not happen: log(det) > log(previous_det) (-50.245517031315956 > -77.106596123606195). You may want to try with a higher value of support_fraction (current value: 0.501).\n",
      "  RuntimeWarning)\n",
      "C:\\Users\\91997\\anaconda3\\lib\\site-packages\\sklearn\\covariance\\_robust_covariance.py:170: RuntimeWarning: Determinant has increased; this should not happen: log(det) > log(previous_det) (-50.240104267008959 > -75.123663778575732). You may want to try with a higher value of support_fraction (current value: 0.501).\n",
      "  RuntimeWarning)\n",
      "C:\\Users\\91997\\anaconda3\\lib\\site-packages\\sklearn\\covariance\\_robust_covariance.py:170: RuntimeWarning: Determinant has increased; this should not happen: log(det) > log(previous_det) (-49.250211305122960 > -75.161225962785579). You may want to try with a higher value of support_fraction (current value: 0.501).\n",
      "  RuntimeWarning)\n",
      "C:\\Users\\91997\\anaconda3\\lib\\site-packages\\sklearn\\covariance\\_robust_covariance.py:170: RuntimeWarning: Determinant has increased; this should not happen: log(det) > log(previous_det) (-49.909548626708514 > -76.746548033129827). You may want to try with a higher value of support_fraction (current value: 0.501).\n",
      "  RuntimeWarning)\n",
      "C:\\Users\\91997\\anaconda3\\lib\\site-packages\\sklearn\\covariance\\_robust_covariance.py:170: RuntimeWarning: Determinant has increased; this should not happen: log(det) > log(previous_det) (-50.891326544720201 > -75.682233763432791). You may want to try with a higher value of support_fraction (current value: 0.501).\n",
      "  RuntimeWarning)\n",
      "C:\\Users\\91997\\anaconda3\\lib\\site-packages\\sklearn\\covariance\\_robust_covariance.py:170: RuntimeWarning: Determinant has increased; this should not happen: log(det) > log(previous_det) (-50.235422027283533 > -78.561753636241093). You may want to try with a higher value of support_fraction (current value: 0.501).\n",
      "  RuntimeWarning)\n",
      "C:\\Users\\91997\\anaconda3\\lib\\site-packages\\sklearn\\covariance\\_robust_covariance.py:170: RuntimeWarning: Determinant has increased; this should not happen: log(det) > log(previous_det) (-49.859327893628368 > -75.506059781784103). You may want to try with a higher value of support_fraction (current value: 0.501).\n",
      "  RuntimeWarning)\n",
      "C:\\Users\\91997\\anaconda3\\lib\\site-packages\\sklearn\\covariance\\_robust_covariance.py:170: RuntimeWarning: Determinant has increased; this should not happen: log(det) > log(previous_det) (-49.586488761883487 > -75.469733773072392). You may want to try with a higher value of support_fraction (current value: 0.501).\n",
      "  RuntimeWarning)\n",
      "C:\\Users\\91997\\anaconda3\\lib\\site-packages\\sklearn\\covariance\\_robust_covariance.py:170: RuntimeWarning: Determinant has increased; this should not happen: log(det) > log(previous_det) (-50.101075588075439 > -76.370317600339888). You may want to try with a higher value of support_fraction (current value: 0.501).\n",
      "  RuntimeWarning)\n",
      "C:\\Users\\91997\\anaconda3\\lib\\site-packages\\sklearn\\covariance\\_robust_covariance.py:170: RuntimeWarning: Determinant has increased; this should not happen: log(det) > log(previous_det) (-50.312636661667796 > -77.314200632105894). You may want to try with a higher value of support_fraction (current value: 0.501).\n",
      "  RuntimeWarning)\n",
      "C:\\Users\\91997\\anaconda3\\lib\\site-packages\\sklearn\\covariance\\_robust_covariance.py:170: RuntimeWarning: Determinant has increased; this should not happen: log(det) > log(previous_det) (-50.250066970763996 > -78.448260993169939). You may want to try with a higher value of support_fraction (current value: 0.501).\n",
      "  RuntimeWarning)\n",
      "C:\\Users\\91997\\anaconda3\\lib\\site-packages\\sklearn\\covariance\\_robust_covariance.py:170: RuntimeWarning: Determinant has increased; this should not happen: log(det) > log(previous_det) (-49.555505358476616 > -76.383177602584198). You may want to try with a higher value of support_fraction (current value: 0.501).\n",
      "  RuntimeWarning)\n",
      "C:\\Users\\91997\\anaconda3\\lib\\site-packages\\sklearn\\covariance\\_robust_covariance.py:170: RuntimeWarning: Determinant has increased; this should not happen: log(det) > log(previous_det) (-50.335525612751205 > -77.908648519871576). You may want to try with a higher value of support_fraction (current value: 0.501).\n",
      "  RuntimeWarning)\n",
      "C:\\Users\\91997\\anaconda3\\lib\\site-packages\\sklearn\\covariance\\_robust_covariance.py:170: RuntimeWarning: Determinant has increased; this should not happen: log(det) > log(previous_det) (-50.312868452035687 > -78.275586981066382). You may want to try with a higher value of support_fraction (current value: 0.501).\n",
      "  RuntimeWarning)\n",
      "C:\\Users\\91997\\anaconda3\\lib\\site-packages\\sklearn\\covariance\\_robust_covariance.py:170: RuntimeWarning: Determinant has increased; this should not happen: log(det) > log(previous_det) (-50.764724066883169 > -77.282352110428548). You may want to try with a higher value of support_fraction (current value: 0.501).\n",
      "  RuntimeWarning)\n",
      "C:\\Users\\91997\\anaconda3\\lib\\site-packages\\sklearn\\covariance\\_robust_covariance.py:170: RuntimeWarning: Determinant has increased; this should not happen: log(det) > log(previous_det) (-49.672481809425683 > -75.780064170775418). You may want to try with a higher value of support_fraction (current value: 0.501).\n",
      "  RuntimeWarning)\n",
      "C:\\Users\\91997\\anaconda3\\lib\\site-packages\\sklearn\\covariance\\_robust_covariance.py:170: RuntimeWarning: Determinant has increased; this should not happen: log(det) > log(previous_det) (-48.810409699567977 > -116.332661175263638). You may want to try with a higher value of support_fraction (current value: 0.501).\n",
      "  RuntimeWarning)\n"
     ]
    },
    {
     "name": "stderr",
     "output_type": "stream",
     "text": [
      "C:\\Users\\91997\\anaconda3\\lib\\site-packages\\sklearn\\covariance\\_robust_covariance.py:170: RuntimeWarning: Determinant has increased; this should not happen: log(det) > log(previous_det) (-50.246740593074335 > -75.373826826202034). You may want to try with a higher value of support_fraction (current value: 0.501).\n",
      "  RuntimeWarning)\n",
      "C:\\Users\\91997\\anaconda3\\lib\\site-packages\\sklearn\\covariance\\_robust_covariance.py:170: RuntimeWarning: Determinant has increased; this should not happen: log(det) > log(previous_det) (-50.256978425484334 > -76.476983289741668). You may want to try with a higher value of support_fraction (current value: 0.501).\n",
      "  RuntimeWarning)\n",
      "C:\\Users\\91997\\anaconda3\\lib\\site-packages\\sklearn\\covariance\\_robust_covariance.py:170: RuntimeWarning: Determinant has increased; this should not happen: log(det) > log(previous_det) (-50.288199308055383 > -75.990589261845741). You may want to try with a higher value of support_fraction (current value: 0.501).\n",
      "  RuntimeWarning)\n",
      "C:\\Users\\91997\\anaconda3\\lib\\site-packages\\sklearn\\covariance\\_robust_covariance.py:170: RuntimeWarning: Determinant has increased; this should not happen: log(det) > log(previous_det) (-50.329968951469127 > -77.419260242706173). You may want to try with a higher value of support_fraction (current value: 0.501).\n",
      "  RuntimeWarning)\n",
      "C:\\Users\\91997\\anaconda3\\lib\\site-packages\\sklearn\\covariance\\_robust_covariance.py:170: RuntimeWarning: Determinant has increased; this should not happen: log(det) > log(previous_det) (-50.221834205302208 > -76.598158257798758). You may want to try with a higher value of support_fraction (current value: 0.501).\n",
      "  RuntimeWarning)\n",
      "C:\\Users\\91997\\anaconda3\\lib\\site-packages\\sklearn\\covariance\\_robust_covariance.py:170: RuntimeWarning: Determinant has increased; this should not happen: log(det) > log(previous_det) (-49.289029393101316 > -75.757556561108402). You may want to try with a higher value of support_fraction (current value: 0.501).\n",
      "  RuntimeWarning)\n",
      "C:\\Users\\91997\\anaconda3\\lib\\site-packages\\sklearn\\covariance\\_robust_covariance.py:170: RuntimeWarning: Determinant has increased; this should not happen: log(det) > log(previous_det) (-49.385618505522736 > -76.886683446606412). You may want to try with a higher value of support_fraction (current value: 0.501).\n",
      "  RuntimeWarning)\n",
      "C:\\Users\\91997\\anaconda3\\lib\\site-packages\\sklearn\\covariance\\_robust_covariance.py:170: RuntimeWarning: Determinant has increased; this should not happen: log(det) > log(previous_det) (-50.182879512156042 > -80.162519537026284). You may want to try with a higher value of support_fraction (current value: 0.501).\n",
      "  RuntimeWarning)\n",
      "C:\\Users\\91997\\anaconda3\\lib\\site-packages\\sklearn\\covariance\\_robust_covariance.py:170: RuntimeWarning: Determinant has increased; this should not happen: log(det) > log(previous_det) (-50.209250265997788 > -77.413630033229708). You may want to try with a higher value of support_fraction (current value: 0.501).\n",
      "  RuntimeWarning)\n",
      "C:\\Users\\91997\\anaconda3\\lib\\site-packages\\sklearn\\covariance\\_robust_covariance.py:170: RuntimeWarning: Determinant has increased; this should not happen: log(det) > log(previous_det) (-50.362224422506152 > -77.102387005732240). You may want to try with a higher value of support_fraction (current value: 0.501).\n",
      "  RuntimeWarning)\n",
      "C:\\Users\\91997\\anaconda3\\lib\\site-packages\\sklearn\\covariance\\_robust_covariance.py:170: RuntimeWarning: Determinant has increased; this should not happen: log(det) > log(previous_det) (-50.173137659451349 > -75.808458672225186). You may want to try with a higher value of support_fraction (current value: 0.501).\n",
      "  RuntimeWarning)\n",
      "C:\\Users\\91997\\anaconda3\\lib\\site-packages\\sklearn\\covariance\\_robust_covariance.py:170: RuntimeWarning: Determinant has increased; this should not happen: log(det) > log(previous_det) (-50.294483190145364 > -76.390291443926884). You may want to try with a higher value of support_fraction (current value: 0.501).\n",
      "  RuntimeWarning)\n",
      "C:\\Users\\91997\\anaconda3\\lib\\site-packages\\sklearn\\covariance\\_robust_covariance.py:170: RuntimeWarning: Determinant has increased; this should not happen: log(det) > log(previous_det) (-50.208972773367478 > -75.741530995676570). You may want to try with a higher value of support_fraction (current value: 0.501).\n",
      "  RuntimeWarning)\n",
      "C:\\Users\\91997\\anaconda3\\lib\\site-packages\\sklearn\\covariance\\_robust_covariance.py:170: RuntimeWarning: Determinant has increased; this should not happen: log(det) > log(previous_det) (-50.378081918545995 > -76.605948395137602). You may want to try with a higher value of support_fraction (current value: 0.501).\n",
      "  RuntimeWarning)\n",
      "C:\\Users\\91997\\anaconda3\\lib\\site-packages\\sklearn\\covariance\\_robust_covariance.py:170: RuntimeWarning: Determinant has increased; this should not happen: log(det) > log(previous_det) (-50.916820128957937 > -76.942173834118762). You may want to try with a higher value of support_fraction (current value: 0.501).\n",
      "  RuntimeWarning)\n",
      "C:\\Users\\91997\\anaconda3\\lib\\site-packages\\sklearn\\covariance\\_robust_covariance.py:170: RuntimeWarning: Determinant has increased; this should not happen: log(det) > log(previous_det) (-50.077545968806454 > -75.696921172394340). You may want to try with a higher value of support_fraction (current value: 0.501).\n",
      "  RuntimeWarning)\n",
      "C:\\Users\\91997\\anaconda3\\lib\\site-packages\\sklearn\\covariance\\_robust_covariance.py:170: RuntimeWarning: Determinant has increased; this should not happen: log(det) > log(previous_det) (-50.436632051329866 > -76.438541656063606). You may want to try with a higher value of support_fraction (current value: 0.501).\n",
      "  RuntimeWarning)\n",
      "C:\\Users\\91997\\anaconda3\\lib\\site-packages\\sklearn\\covariance\\_robust_covariance.py:170: RuntimeWarning: Determinant has increased; this should not happen: log(det) > log(previous_det) (-50.734734341696125 > -76.521728710156069). You may want to try with a higher value of support_fraction (current value: 0.501).\n",
      "  RuntimeWarning)\n",
      "C:\\Users\\91997\\anaconda3\\lib\\site-packages\\sklearn\\covariance\\_robust_covariance.py:170: RuntimeWarning: Determinant has increased; this should not happen: log(det) > log(previous_det) (-51.027942813065167 > -78.340142760863017). You may want to try with a higher value of support_fraction (current value: 0.501).\n",
      "  RuntimeWarning)\n",
      "C:\\Users\\91997\\anaconda3\\lib\\site-packages\\sklearn\\covariance\\_robust_covariance.py:170: RuntimeWarning: Determinant has increased; this should not happen: log(det) > log(previous_det) (-51.132819510101370 > -80.575229534365377). You may want to try with a higher value of support_fraction (current value: 0.501).\n",
      "  RuntimeWarning)\n",
      "C:\\Users\\91997\\anaconda3\\lib\\site-packages\\sklearn\\covariance\\_robust_covariance.py:170: RuntimeWarning: Determinant has increased; this should not happen: log(det) > log(previous_det) (-50.826679532509473 > -77.642101236680006). You may want to try with a higher value of support_fraction (current value: 0.501).\n",
      "  RuntimeWarning)\n"
     ]
    },
    {
     "name": "stdout",
     "output_type": "stream",
     "text": [
      "MCD ROC:0.9903, precison @ rank n:0.7534,esection time: 13.3842s\n",
      "OCSVM ROC:0.9922, precison @ rank n:0.9553,esection time: 51.4505s\n",
      "Principal Component Analysis (PCA) ROC:0.9902, precison @ rank n:0.9503,esection time: 0.0389s\n",
      "\n",
      " ......Processing vertebral.mat ...\n",
      "Angle-based Outlier Detector (ABOD) ROC:0.2797, precison @ rank n:0.0,esection time: 0.0559s\n",
      "Cluster-based Local Outlier Factor ROC:0.3908, precison @ rank n:0.0,esection time: 0.0568s\n",
      "feature Bagging ROC:0.3027, precison @ rank n:0.0,esection time: 0.0598s\n",
      "Histogram-base Outlier Detection (HBOS) ROC:0.2695, precison @ rank n:0.0,esection time: 0.004s\n",
      "Isolation Forest ROC:0.3576, precison @ rank n:0.0,esection time: 0.3281s\n",
      "K nearest neighbors (KNN) ROC:0.318, precison @ rank n:0.0,esection time: 0.01s\n",
      "Local Outlier Factor (LOF) ROC:0.318, precison @ rank n:0.0,esection time: 0.004s\n",
      "MCD ROC:0.3308, precison @ rank n:0.0,esection time: 0.0429s\n",
      "OCSVM ROC:0.4087, precison @ rank n:0.0,esection time: 0.002s\n",
      "Principal Component Analysis (PCA) ROC:0.3397, precison @ rank n:0.0,esection time: 0.001s\n",
      "\n",
      " ......Processing vowels.mat ...\n",
      "Angle-based Outlier Detector (ABOD) ROC:0.9521, precison @ rank n:0.4706,esection time: 0.3271s\n",
      "Cluster-based Local Outlier Factor ROC:0.9278, precison @ rank n:0.4118,esection time: 0.0988s\n",
      "feature Bagging ROC:0.9385, precison @ rank n:0.3529,esection time: 0.3501s\n",
      "Histogram-base Outlier Detection (HBOS) ROC:0.6758, precison @ rank n:0.1765,esection time: 0.005s\n",
      "Isolation Forest ROC:0.6933, precison @ rank n:0.1765,esection time: 0.5775s\n",
      "K nearest neighbors (KNN) ROC:0.9568, precison @ rank n:0.5294,esection time: 0.1037s\n",
      "Local Outlier Factor (LOF) ROC:0.9345, precison @ rank n:0.4118,esection time: 0.0489s\n",
      "MCD ROC:0.6779, precison @ rank n:0.0,esection time: 0.8857s\n",
      "OCSVM ROC:0.7415, precison @ rank n:0.2941,esection time: 0.0459s\n",
      "Principal Component Analysis (PCA) ROC:0.5787, precison @ rank n:0.1176,esection time: 0.002s\n",
      "\n",
      " ......Processing wbc.mat ...\n",
      "Angle-based Outlier Detector (ABOD) ROC:0.9232, precison @ rank n:0.3,esection time: 0.0937s\n",
      "Cluster-based Local Outlier Factor ROC:0.9063, precison @ rank n:0.6,esection time: 0.0808s\n",
      "feature Bagging ROC:0.9415, precison @ rank n:0.5,esection time: 0.0837s\n",
      "Histogram-base Outlier Detection (HBOS) ROC:0.9592, precison @ rank n:0.7,esection time: 0.01s\n",
      "Isolation Forest ROC:0.9451, precison @ rank n:0.5,esection time: 0.349s\n",
      "K nearest neighbors (KNN) ROC:0.9437, precison @ rank n:0.5,esection time: 0.0209s\n",
      "Local Outlier Factor (LOF) ROC:0.9352, precison @ rank n:0.4,esection time: 0.009s\n",
      "MCD ROC:0.8986, precison @ rank n:0.4,esection time: 0.0618s\n",
      "OCSVM ROC:0.9408, precison @ rank n:0.5,esection time: 0.008s\n",
      "Principal Component Analysis (PCA) ROC:0.9324, precison @ rank n:0.6,esection time: 0.003s\n"
     ]
    }
   ],
   "source": [
    "from time import time \n",
    "random_state = np.random.RandomState(42)\n",
    "\n",
    "for mat_file in mat_file_list :\n",
    "    print(\"\\n ......Processing\",mat_file,'...')\n",
    "    mat = loadmat(os.path.join(mat_file))\n",
    "    \n",
    "    X= mat['X']\n",
    "    y= mat['y'].ravel()\n",
    "    outliers_fraction= np.count_nonzero(y) / len(y)\n",
    "    outliers_percentage =round(outliers_fraction * 100, ndigits=4)\n",
    "    \n",
    "    #construct containers for saving results\n",
    "    roc_list = [mat_file [:-4], X.shape[0], X.shape[1], outliers_percentage]\n",
    "    prn_list = [mat_file [:-4], X.shape[0], X.shape[1], outliers_percentage]\n",
    "    time_list = [mat_file [:-4], X.shape[0], X.shape[1], outliers_percentage]\n",
    "    \n",
    "    # 60% data for training and 40% for testing\n",
    "    X_train, X_test, y_train , y_test = train_test_split(X, y, test_size=0.4,random_state=random_state)\n",
    "    \n",
    "    #standardizing data for processing\n",
    "    X_train_norm , X_test_norm= standardizer(X_train, X_test)\n",
    "    \n",
    "    classifiers = {'Angle-based Outlier Detector (ABOD)':ABOD(contamination=outliers_fraction),'Cluster-based Local Outlier Factor': CBLOF(contamination=outliers_fraction,random_state=random_state), 'feature Bagging': FeatureBagging(contamination=outliers_fraction,random_state=random_state),'Histogram-base Outlier Detection (HBOS)': HBOS(contamination=outliers_fraction), 'Isolation Forest':IForest(contamination=outliers_fraction,random_state=random_state),'K nearest neighbors (KNN)': KNN(contamination=outliers_fraction),'Local Outlier Factor (LOF)':LOF(contamination=outliers_fraction), 'MCD' : MCD(contamination=outliers_fraction,random_state=random_state), 'OCSVM': OCSVM(contamination=outliers_fraction), 'Principal Component Analysis (PCA)': PCA(contamination=outliers_fraction, random_state=random_state),}\n",
    "    \n",
    "    for clf_name, clf in classifiers.items():\n",
    "        t0=time()\n",
    "        clf.fit(X_train_norm)\n",
    "        test_scores=clf.decision_function(X_test_norm)\n",
    "        t1=time()\n",
    "        duration = round(t1 - t0 , ndigits=4)\n",
    "        time_list.append(duration)  #append not working without assigning\n",
    "        \n",
    "        roc = round(roc_auc_score(y_test,test_scores), ndigits=4)\n",
    "        prn = round(precision_n_scores(y_test,test_scores), ndigits=4)\n",
    "        \n",
    "        print('{clf_name} ROC:{roc}, precison @ rank n:{prn},'\n",
    "               'esection time: {duration}s'.format(clf_name=clf_name, roc=roc, prn=prn, duration=duration))\n",
    "        roc_list.append(roc)  #append not working without assigning\n",
    "        prn_list.append(prn)  #append not working without assigning\n",
    "    temp_df = pd.DataFrame(time_list).transpose() \n",
    "    temp_df.columns = df_columns\n",
    "    time_df = pd.concat( [time_df, temp_df] , axis=0 )\n",
    "\n",
    "    \n",
    "    temp_df = pd.DataFrame(roc_list).transpose() \n",
    "    temp_df.columns = df_columns\n",
    "    roc_df = pd.concat( [roc_df, temp_df],axis=0 )\n",
    "\n",
    "    temp_df = pd.DataFrame(prn_list).transpose() \n",
    "    temp_df.columns = df_columns\n",
    "    prn_df = pd.concat( [prn_df, temp_df] , axis=0 )\n",
    "    \n",
    "\n",
    "        "
   ]
  },
  {
   "cell_type": "code",
   "execution_count": 103,
   "metadata": {},
   "outputs": [
    {
     "data": {
      "text/plain": [
       "['wbc',\n",
       " 378,\n",
       " 30,\n",
       " 5.5556,\n",
       " 0.9232,\n",
       " 0.9063,\n",
       " 0.9415,\n",
       " 0.9592,\n",
       " 0.9451,\n",
       " 0.9437,\n",
       " 0.9352,\n",
       " 0.8986,\n",
       " 0.9408,\n",
       " 0.9324]"
      ]
     },
     "execution_count": 103,
     "metadata": {},
     "output_type": "execute_result"
    }
   ],
   "source": [
    "roc_list"
   ]
  },
  {
   "cell_type": "code",
   "execution_count": 104,
   "metadata": {},
   "outputs": [
    {
     "data": {
      "text/plain": [
       "['wbc', 378, 30, 5.5556, 0.3, 0.6, 0.5, 0.7, 0.5, 0.5, 0.4, 0.4, 0.5, 0.6]"
      ]
     },
     "execution_count": 104,
     "metadata": {},
     "output_type": "execute_result"
    }
   ],
   "source": [
    "prn_list"
   ]
  },
  {
   "cell_type": "code",
   "execution_count": 105,
   "metadata": {},
   "outputs": [
    {
     "data": {
      "text/plain": [
       "['wbc',\n",
       " 378,\n",
       " 30,\n",
       " 5.5556,\n",
       " 0.0937,\n",
       " 0.0808,\n",
       " 0.0837,\n",
       " 0.01,\n",
       " 0.349,\n",
       " 0.0209,\n",
       " 0.009,\n",
       " 0.0618,\n",
       " 0.008,\n",
       " 0.003]"
      ]
     },
     "execution_count": 105,
     "metadata": {},
     "output_type": "execute_result"
    }
   ],
   "source": [
    "time_list"
   ]
  },
  {
   "cell_type": "code",
   "execution_count": null,
   "metadata": {},
   "outputs": [],
   "source": []
  }
 ],
 "metadata": {
  "kernelspec": {
   "display_name": "Python 3",
   "language": "python",
   "name": "python3"
  },
  "language_info": {
   "codemirror_mode": {
    "name": "ipython",
    "version": 3
   },
   "file_extension": ".py",
   "mimetype": "text/x-python",
   "name": "python",
   "nbconvert_exporter": "python",
   "pygments_lexer": "ipython3",
   "version": "3.7.6"
  }
 },
 "nbformat": 4,
 "nbformat_minor": 4
}
